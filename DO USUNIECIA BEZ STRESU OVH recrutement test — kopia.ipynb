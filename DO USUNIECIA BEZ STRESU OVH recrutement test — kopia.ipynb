{
 "cells": [
  {
   "cell_type": "markdown",
   "metadata": {},
   "source": [
    "# OVH Projet:\n",
    "\n",
    "#### The goal of this task is to prepare statistical analysis of set of data_ovh from disks.\n",
    "\n",
    "Each entry of the data_ovh set consists of following fields separated by `;`\n",
    "character:\n",
    "\n",
    "- `data_ovhcenter`\n",
    "- `hostname`\n",
    "- `disk serial`\n",
    "- `disk age (in s)`\n",
    "- `total reads`\n",
    "- `total writes`\n",
    "- `average IO latency from 5 minutes (in ms)`\n",
    "- `total uncorrected read errors`\n",
    "- `total uncorrected write errors`\n",
    "\n",
    "The proper solution (a script in Python) should output following\n",
    "information:\n",
    "\n",
    "- How many disks are in total and in each DC\n",
    "- Which disk is the youngest/oldest one and what is its age (in days)\n",
    "- What's the average disk age per DC (in days)\n",
    "- How many read/write IO/s disks processes on average\n",
    "- Find top 5 disks with lowest/highest average IO/s (reads+writes, print disks and their avg IO/s)\n",
    "- Find disks which are most probably broken, i.e. have non-zero uncorrected errors (print disks and error counter)\n",
    "\n",
    "There should also be tests that verify if parts of the script are processing data_ovh properly.\n",
    "\n",
    "-----------------------\n",
    "------------------------"
   ]
  },
  {
   "cell_type": "markdown",
   "metadata": {},
   "source": [
    "### Data analysis and cleaning\n",
    "\n",
    "Let's start by reading the datasets into pandas and exploring them.\n",
    "\n",
    "The next steps I will be to:\n",
    "\n",
    "- Use the **`DataFrame.info()`** and **`DataFrame.head()`** methods to print information about both dataframes, as well as the first few rows.\n",
    "- **`DataFrame.shape`** - to find the shape of the whole `DataFrame`.\n",
    "- **`DataFrame.describe()`** (with and without **`include='all'`** to get both categorical and numeric columns).\n",
    "- **`Series.value_counts()`**, **`Series.head()`**  and **`DataFrame.isnull()`** methods to explore the data and figure out some next steps, or if any columns need a closer look.\n",
    "\n",
    "-----------------------\n",
    "##### Disclaimer:\n",
    "\n",
    "*As I do not know what is the broader context of the purpose for which I am carrying out the analysis, I decided to choose the `Pandas` library for further work. I am aware that for very large data sets it is not the fastest library. However, since the set has only 25,000 rows, I will stick to 'Pandas'.*\n",
    "\n",
    "*In other situations, you may consider:*\n",
    "\n",
    "\n",
    "- Vectorization\n",
    "- Cython routines\n",
    "- List Comprehensions (vanilla for loop)\n",
    "- `DataFrame.apply` ():\n",
    "    - 1) Reductions that can be performed in Cython, \n",
    "    - 2) Iteration in Python space\n",
    "    \n",
    "- `DataFrame.itertuples()` and `iteritems()`\n",
    "- `DataFrame.iterrows()`\n",
    "\n",
    "*More about it we can find [here](https://stackoverflow.com/questions/24870953/does-pandas-iterrows-have-performance-issues) and [here](https://stackoverflow.com/questions/16476924/how-to-iterate-over-rows-in-a-dataframe-in-pandas/55557758#55557758).*"
   ]
  },
  {
   "cell_type": "code",
   "execution_count": 22,
   "metadata": {},
   "outputs": [
    {
     "name": "stdout",
     "output_type": "stream",
     "text": [
      "False\n"
     ]
    }
   ],
   "source": [
    "import numpy as np\n",
    "import pandas as pd\n",
    "\n",
    "# Testing modules:\n",
    "from pandas import testing as tm\n",
    "from pandas.testing import assert_frame_equal\n",
    "\n",
    "# Needed for display log with the error exeption function:\n",
    "# https://realpython.com/the-most-diabolical-python-antipattern/\n",
    "import logging\n",
    "\n",
    "# Need for print an error message without printing a traceback and close the program when a condition is not met:\n",
    "# https://stackoverflow.com/questions/17784849/print-an-error-message-without-printing-a-traceback-and-close-the-program-when-a\n",
    "import sys\n",
    "\n",
    "# The Jupyter magic %matplotlib inline allows plots to be displayed inline.\n",
    "%matplotlib inline \n",
    "import matplotlib.pyplot as plt\n",
    "import seaborn as sns\n",
    "\n",
    "with open('data.raw', 'r') as file1:\n",
    "    data_ovh = pd.read_csv(\n",
    "        file1,\n",
    "        sep=\";\",\n",
    "        header=None\n",
    "    )\n",
    "    \n",
    "\n",
    "# creating test file - which is not prefiltered for further analysis:\n",
    "with open('data_destroyed_unfiltered.raw', 'r') as file2:\n",
    "    data_ovh_destroyed_unfiltered = pd.read_csv(\n",
    "        file2,\n",
    "        sep=\";\",\n",
    "        header=None\n",
    "    )\n",
    "    \n",
    "# print(data_ovh) #test\n",
    "# create a dictionary with keys and lists.\n",
    "\n",
    "col_names_list = [\n",
    "    'data_ovhcenter', \n",
    "    'hostname', \n",
    "    'disk serial', \n",
    "    'disk age (in s)', \n",
    "    'total reads', \n",
    "    'total writes', \n",
    "    'average I O latency from 5 minutes (in ms)', \n",
    "    'total uncorrected read errors', \n",
    "    'total uncorrected write errors']\n",
    "\n",
    "# Camel sase for tittles in columns:\n",
    "col_names_list = [\n",
    "    n.title().replace(' ', '') \n",
    "    for n in col_names_list\n",
    "]\n",
    "# print(col) # test\n",
    "\n",
    "data_ovh.columns = col_names_list\n",
    "\n",
    "data_ovh_destroyed_unfiltered.columns = col_names_list\n",
    "\n",
    "# data_ovh.head()\n",
    "\n",
    "# # Test 1: Check that left and right Index are equal.\n",
    "# data_ovh_index = data_ovh.index\n",
    "# data_ovh_destroyed_unfiltered_index = data_ovh_destroyed_unfiltered.index\n",
    "\n",
    "# try:\n",
    "#     tm.assert_index_equal(data_ovh_index, data_ovh_destroyed_unfiltered_index)\n",
    "# except AssertionError as ae:\n",
    "#     sys.tracebacklimit = 0\n",
    "#     logging.exception(\n",
    "#         'Caught an error [in code used: except AssertionError]',\n",
    "#         '\\n',\n",
    "#         'Check that left and right Indexes are equal. Comparison between the reference data frame and a new one.' + str(ae))\n",
    "#     print(\n",
    "#         'Caught an error [in code used: except AssertionError]',\n",
    "#         '\\n', \n",
    "#         'Check that left and right Indexes are equal. Comparison between the reference data frame and a new one.'\n",
    "#         + str(ae)\n",
    "#     )\n",
    "\n",
    "# # print(tm.assert_index_equal(data_ovh_index, data_ovh_destroyed_unfiltered_index))\n",
    "\n",
    "# Test 2:\n",
    "# Checking dtypes of each column in both data frames:\n",
    "\n",
    "# try:\n",
    "#     # Comparing same index in 2 lists:\n",
    "#     data_ovh_dtypes_list =  list(data_ovh.dtypes)\n",
    "#     data_ovh_destroyed_unfiltered_dtypes_list = list(data_ovh_destroyed_unfiltered.dtypes)\n",
    "\n",
    "#     res1 = [i == j for i, j in zip(data_ovh_dtypes_list, data_ovh_destroyed_unfiltered_dtypes_list)]\n",
    "\n",
    "#     #convert bools to strings:\n",
    "#     res12 = [str(i) for i in res1]\n",
    "\n",
    "#     # Finding an index of the faulty columns:\n",
    "\n",
    "#     list_of_faulty_dtypes = []\n",
    "\n",
    "#     for i in range(len(res12)):\n",
    "#         if res12[i] == 'False':\n",
    "#             list_of_faulty_dtypes.append(i)\n",
    "\n",
    "#     if not list_of_faulty_dtypes:\n",
    "#         print(\"ok\")\n",
    "#     else:\n",
    "#         list_of_faulty_printed = [i for i in list(data_ovh_destroyed_unfiltered.columns[list_of_faulty_dtypes])]\n",
    "\n",
    "#         raise ValueError('columns ', data_ovh_destroyed_unfiltered.columns[list_of_faulty_dtypes], 'are in wrong dtype format.') \n",
    "#         print('uncorrect dtype in column(s): ', list_of_faulty_printed)\n",
    "        \n",
    "# except ValueError as ve:\n",
    "#     sys.tracebacklimit = 0\n",
    "#     logging.exception(\n",
    "#     'Caught an error [in code used: except AssertionError]',\n",
    "#     '\\n',\n",
    "#     'Check that left and right Indexes are equal. Comparison between the reference data frame and a new one.'\n",
    "#         + str(ve)\n",
    "#     )\n",
    "    \n",
    "#     print('uncorrect dtype in column(s): ', list_of_faulty_printed)\n",
    "    \n",
    "# # print(list(data_ovh_destroyed_unfiltered.columns[list_of_faulty_dtypes]))\n",
    "\n",
    "   \n",
    "# Test 3: Check for NaN under an entire DataFrame (there shouldn't be any):\n",
    "    \n",
    "    \n",
    "# try:\n",
    "#     if data_ovh_destroyed_unfiltered.isnull().values.any() == False:\n",
    "#         print(\"No missing values, no NaN's\")\n",
    "#     else:\n",
    "#         raise ValueError(\n",
    "#             \"Missing values in the data frame, of NaNs, were detected! Dataframe isn't prepared for further analysis!\"\n",
    "#         )\n",
    "# except ValueError as ve:\n",
    "#     sys.tracebacklimit = 0\n",
    "#     logging.exception(\n",
    "#         \"Missing values in the data frame, of NaNs, were detected! Dataframe isn't prepared for further analysis!\"\n",
    "#         + str(ve)\n",
    "#     )\n",
    "    \n",
    "#     print(\"Missing values in the data frame, of NaNs, were detected! Dataframe isn't prepared for further analysis!\")\n",
    "\n",
    "# Test 4: \n",
    "# looking for correct strings in `Data_Ovhcenter` and `hostname` columns.\n",
    "\n",
    "\n",
    "mask = data_ovh_destroyed_unfiltered['Data_Ovhcenter'].str.contains('^dc-').all()\n",
    "mask1 = data_ovh_destroyed_unfiltered['Hostname'].str.contains('.storage.ovh$').all()\n",
    "mask2 = data_ovh_destroyed_unfiltered['Hostname'].str.contains('^host').all()\n",
    "\n",
    "try:\n",
    "    if mask1 != False and mask2 != False and mask3 != False:\n",
    "        print('all ok')\n",
    "\n",
    "\n",
    "Do zrobienia:\n",
    "    \n",
    "    po pierwsze, wrzuć nową wersję głównej pracy na git (nowy commit)\n",
    "    po drugie testy chyba mamy już wszystkie pozostaje zapakować to w GUI no i pozmieniać nazwy plików, \n",
    "    tak by to wybrany plik w eksploratorze plików, odpalał tu all"
   ]
  },
  {
   "cell_type": "code",
   "execution_count": null,
   "metadata": {},
   "outputs": [],
   "source": [
    "data_ovh.shape"
   ]
  },
  {
   "cell_type": "code",
   "execution_count": null,
   "metadata": {
    "scrolled": true
   },
   "outputs": [],
   "source": [
    "a = list(data_ovh_destroyed_unfiltered.dtypes)\n",
    "\n",
    "print(a)"
   ]
  },
  {
   "cell_type": "markdown",
   "metadata": {},
   "source": [
    "Our data in the `data_ovh` data frame has 25000 entries (rows). \n",
    "\n",
    "Three columns are object types and have strings. \n",
    "\n",
    "Six columns have `int64` - in our case integers.\n",
    "\n",
    "\n",
    "---------------------------------------------------------\n"
   ]
  },
  {
   "cell_type": "code",
   "execution_count": null,
   "metadata": {},
   "outputs": [],
   "source": [
    "data_ovh.describe()"
   ]
  },
  {
   "cell_type": "code",
   "execution_count": null,
   "metadata": {},
   "outputs": [],
   "source": [
    "data_ovh.describe(include='all')"
   ]
  },
  {
   "cell_type": "code",
   "execution_count": null,
   "metadata": {},
   "outputs": [],
   "source": [
    "\"\"\"\n",
    "with `.isnull()` function I can check a scalar or \n",
    "array-like object and indicates whether values are missing \n",
    "(NaN in numeric arrays, \n",
    "None or NaN in object arrays, \n",
    "NaT in datetimelike)\n",
    "\n",
    "with `.any()` function \n",
    "I can check for any instance in the whole df\n",
    "\"\"\"\n",
    "data_ovh.isnull().any()\n"
   ]
  },
  {
   "cell_type": "markdown",
   "metadata": {},
   "source": [
    "##### Data analysis and cleaning: conclusion\n",
    "\n",
    "As the data looks consistent, as evidenced by the fact that:\n",
    "- `data_ovh.isnull ()` showed that we do not have empty fields\n",
    "- `data_ovh.describe (include = 'all')` and data_ovh.describe () showed that we do not have outliners\n",
    "\n",
    "In fact, the data itself has errors, as evidenced by the fact that it has the columns `TotalUncorrectedReadErrors` and` otalUncorrectedWriteErrors`. However, these are errors that were foreseen by the creator of this database. As the values in the columns mentioned are also consistent, I can go to the next part."
   ]
  },
  {
   "cell_type": "markdown",
   "metadata": {},
   "source": [
    "\n",
    "--------------------------------------\n",
    "Since some tasks can be solved faster than others, and the very fact of data analysis gives fragments of answers, let me focus on what comes effortlessly in the first place.\n",
    "\n",
    "I'll start with the quests: \n",
    "- **\"How many read/write IO/s disks processes on average\"**\n",
    "- **\"Find disks which are most probably broken, i.e. have non-zero uncorrected errors (print disks and error counter)\"**\n",
    "\n",
    "----------\n"
   ]
  },
  {
   "cell_type": "markdown",
   "metadata": {},
   "source": [
    "### How many read/write IO/s disks processes on average:\n",
    "\n",
    "In order to find out how many read / write IO / s disks processes on average I will use the `df.describe ()` method. Additionally, I will do it on the new data frame: `data_ovh_r_w_io_per_s_avg`, which will only contain the columns that are relevant for this task."
   ]
  },
  {
   "cell_type": "code",
   "execution_count": null,
   "metadata": {},
   "outputs": [],
   "source": [
    "\"\"\"\n",
    "\"How many read/write IO/s disks processes on average\":\n",
    "\"\"\"\n",
    "\n",
    "data_ovh_r_w_io_per_s_avg = data_ovh[\n",
    "    ['TotalReads',\n",
    "     'TotalWrites',\n",
    "     'AverageIOLatencyFrom5Minutes(InMs)']\n",
    "]\n",
    "\n",
    "data_ovh_r_w_io_per_s_avg.describe()"
   ]
  },
  {
   "cell_type": "markdown",
   "metadata": {},
   "source": [
    "As we can see on avarage there is:\n",
    "\n",
    "- For `TotalReads` **1.597572e+09**.\n",
    "- For `TotalWrites` **6.403327e+08**.\n",
    "- For **IO/s** in `AverageIoLatencyFrom5Minutes(InMs)` **14.503040** **Ms**.\n",
    "\n",
    "------------"
   ]
  },
  {
   "cell_type": "markdown",
   "metadata": {},
   "source": [
    "### Find disks which are most probably broken, i.e. have non-zero uncorrected errors (print disks and error counter):\n",
    "\n",
    "In order to find disks which are most probably broken, i.e. have non-zero uncorrected errors (print disks and error counter) I will use boolean indexing.\n",
    "\n",
    "As we can read on [geeksforgeeks.org](https://www.geeksforgeeks.org/boolean-indexing-in-pandas/):\n",
    "\n",
    "*In boolean indexing, we will select subsets of data based on the actual values of the data in the DataFrame and not on their row / column labels or integer locations. In boolean indexing, we use a boolean vector to filter the data*"
   ]
  },
  {
   "cell_type": "code",
   "execution_count": null,
   "metadata": {},
   "outputs": [],
   "source": [
    "\"\"\"\n",
    "Find disks which are most probably broken, \n",
    "i.e. have non-zero uncorrected errors (print disks and error counter):\n",
    "\"\"\"\n",
    "\n",
    "data_ovh_errors_ture = (\n",
    "    data_ovh['TotalUncorrectedReadErrors'] != 0\n",
    ")\n",
    "\n",
    "print(data_ovh_errors_ture.value_counts())\n",
    "print(\"\\n\", \"\\n\")\n",
    "\n",
    "data_ovh_errors_tuwe = (\n",
    "    data_ovh['TotalUncorrectedWriteErrors'] != 0\n",
    ")\n",
    "\n",
    "print(data_ovh_errors_tuwe.value_counts())"
   ]
  },
  {
   "cell_type": "markdown",
   "metadata": {},
   "source": [
    "as we can see on 25,000 rows there are:\n",
    "\n",
    "- For `TotalUncorrectedReadErrors`  **===> 2 errors**\n",
    "- For `TotalUncorrectedWriteErrors` **===> 6 errors**"
   ]
  },
  {
   "cell_type": "markdown",
   "metadata": {},
   "source": [
    "Disks that have `TotalUncorrectedReadErrors`:"
   ]
  },
  {
   "cell_type": "code",
   "execution_count": null,
   "metadata": {},
   "outputs": [],
   "source": [
    "data_ovh[data_ovh_errors_ture][['DiskSerial', 'TotalUncorrectedReadErrors']]"
   ]
  },
  {
   "cell_type": "markdown",
   "metadata": {},
   "source": [
    "Disks that have `TotalUncorrectedWriteErrors`:"
   ]
  },
  {
   "cell_type": "code",
   "execution_count": null,
   "metadata": {},
   "outputs": [],
   "source": [
    "data_ovh[data_ovh_errors_tuwe][['DiskSerial', 'TotalUncorrectedWriteErrors']]"
   ]
  },
  {
   "cell_type": "markdown",
   "metadata": {},
   "source": [
    "### How many disks are in total and in each DC:\n",
    "\n",
    "**How many disks are in each DC:**\n",
    "\n",
    "Because I assume that all disk serials are unique I can solve this task by grouping `DC`: `Data_Ovhcenter` column. Using the `size()` function I can count the instances for all disks at once."
   ]
  },
  {
   "cell_type": "code",
   "execution_count": null,
   "metadata": {},
   "outputs": [],
   "source": [
    "\"\"\"\n",
    "Just in case I will check do we have unique disk serials:\n",
    "\"\"\"\n",
    "a = data_ovh['DiskSerial']\n",
    "a.is_unique"
   ]
  },
  {
   "cell_type": "code",
   "execution_count": null,
   "metadata": {
    "scrolled": true
   },
   "outputs": [],
   "source": [
    "\"\"\"\n",
    "Because each disk that I can find, will always has a unique serial number\n",
    "I can check how many disks are in each DC using just `df.groupby()` with\n",
    "the `size()` function. \n",
    "The `size()` function will point out serial instances for each DC group.\n",
    "\"\"\"\n",
    "\n",
    "data_ovh_disks_per_DC = (\n",
    "    data_ovh.groupby('Data_Ovhcenter')\n",
    "    .size()\n",
    ")\n",
    "\n",
    "data_ovh_disks_per_DC = (\n",
    "    data_ovh_disks_per_DC\n",
    "    .sort_values(ascending=True)\n",
    ")\n",
    "\n",
    "data_ovh_disks_per_DC"
   ]
  },
  {
   "cell_type": "markdown",
   "metadata": {},
   "source": [
    "#### Before we jump to a conclusion about this data:\n",
    "\n",
    "At this point, I realized that I don't know - once again - what's the purpose of this analysis (fuzzy logic). If the output data is needed for further computing, processing etc. Then, it's fine, output data are enough. But if someone wants to analyse those data, then it would be better to present them in a more human-readable format. It is important because in this manner there is easier to understand data and find some hidden patterns. More about this can be found [here](https://en.wikipedia.org/wiki/Principles_of_grouping) and [here](https://en.wikipedia.org/wiki/Gestalt_psychology).\n",
    "\n",
    "That's why I decided to implement plots using `Matplotlib` library.\n",
    "\n",
    "##### One more, \"before\", we start:\n",
    "\n",
    "If I wanted to publish the data visualizations I create, I need to be mindful of people having [**colour blindness**](https://en.wikipedia.org/wiki/Color_blindness). Thankfully, there are colour palettes I can use that are friendly for people with colour blindness. One of them is called [Color Blind 10](http://tableaufriction.blogspot.com/2012/11/finally-you-can-use-tableau-data-colors.html) and was released by Tableau, the company that makes the data visualization platform of the same name.\n",
    "\n",
    "**The Data-Ink concept** \n",
    "\n",
    "Data-ink is the non-erasable ink used for the presentation of data. If data-ink would be removed from the image, the graphic would lose the content. Non-Data-Ink is accordingly the ink that does not transport the information but is used for scales, labels and edges. The data-ink ratio is the proportion of Ink that is used to present actual data compared to the total amount of ink (or pixels) used in the entire display. \n",
    "\n",
    "Non-data ink includes any elements in the chart that don't directly display data points. This includes tick markers, tick labels, and legends. Data ink includes any elements that display and depending on the data points underlying the chart. In a line chart, the data-ink would primarily be the lines and in a scatter plot, the data-ink would primarily be in the markers. As I increase the data-ink ratio, I decrease non-data ink that can help a viewer understand certain aspects of the plots. I need to be mindful of this trade-off as I work on making the appearance of plots to tell a story because plots I create could end up telling the wrong story.\n",
    "\n",
    "This principle was originally set forth by [Edward Tufte](https://en.wikipedia.org/wiki/Edward_Tufte), a pioneer in the field of data visualization. Tufte's first book, **The Visual Display of Quantitative Information**, is considered a bible among information designers.\n",
    "\n",
    "\n",
    "![SegmentLocal](data-ink.gif \"Non-data ink\")\n",
    "\n",
    "“Graphical excellence is that which gives to the viewer the greatest number of ideas in the shortest time with the least ink in the smallest space.”\n",
    "                                                                                                     Edward Tufte"
   ]
  },
  {
   "cell_type": "code",
   "execution_count": null,
   "metadata": {},
   "outputs": [],
   "source": [
    "# let's do a plot:\n",
    "fig1, ax = plt.subplots(figsize=(15,4))\n",
    "\n",
    "\"\"\"\n",
    "The axis is drawn as a unit, so the effective zorder for drawing \n",
    "the grid is determined by the zorder of each axis, \n",
    "not by the zorder of the Line2D objects comprising the grid. \n",
    "Therefore, to set grid zorder, use set_axisbelow or, \n",
    "for more control, call the set_zorder method of each axis.\n",
    "\n",
    "Inspiration from: \n",
    "https://stackoverflow.com/questions/31506361/grid-zorder-seems-not-to-take-effect-matplotlib\n",
    "\"\"\"\n",
    "ax.set_axisbelow(True)\n",
    "\n",
    "\"\"\"\n",
    "for the sake of using colours from the colour-blind page: \n",
    "http://tableaufriction.blogspot.com/2012/11/finally-you-can-use-tableau-data-colors.html\n",
    "I need to convert int to float between 0 and 1 for RGB values like 174.199.232 (blue colour).\n",
    "The value 174.199.232 is from the mentioned page.\n",
    "It is so because matplotlib needs it in such a format.\n",
    "\n",
    "Inspired from:\n",
    "https://stackoverflow.com/questions/41643189/plotting-just-a-single-rgb-color-in-matplotlib\n",
    "\"\"\"\n",
    "ax = data_ovh_disks_per_DC.plot.bar(\n",
    "    fontsize=15,\n",
    "    zorder=1,\n",
    "    color=(174/255, 199/255, 232/255)\n",
    ") # 'zorder' is bar layaut order\n",
    "\n",
    "\"\"\"\n",
    "Below is a for loop for displaying values above their respective bars.\n",
    "\n",
    "Inspiration from:\n",
    "https://stackoverflow.com/questions/63146552/how-do-i-display-these-values-above-their-respective-bars-on-this-bar-chart-with\n",
    "\"\"\"\n",
    "for p in ax.patches:\n",
    "    ax.annotate(s=p.get_height(),\n",
    "                xy=(p.get_x()+p.get_width()/2.,\n",
    "                    p.get_height()\n",
    "                   ),\n",
    "                ha='center',\n",
    "                va='center',\n",
    "                xytext=(0, 10),\n",
    "                textcoords='offset points')\n",
    "\n",
    "\n",
    "ax.spines[\"right\"].set_visible(False)    \n",
    "ax.spines[\"left\"].set_visible(False)\n",
    "ax.spines[\"top\"].set_visible(False)    \n",
    "ax.spines[\"bottom\"].set_visible(False)\n",
    "\n",
    "ax.set_title(\n",
    "    'How many disks are in total and in each DC:',\n",
    "    fontsize=50\n",
    ")\n",
    "\n",
    "ax.set_xticklabels(\n",
    "    data_ovh_disks_per_DC.index,\n",
    "    rotation=34.56789,\n",
    "    fontsize='xx-large'\n",
    ") # We will set xticklabels in angle to be easier to read)\n",
    "# The labels are centred horizontally, so when we rotate them 34.56789°\n",
    "\n",
    "ax.grid(axis='y', zorder=0) # 'zorder' is bar layaut order\n",
    "\n",
    "plt.ylim([4500, 5300])\n",
    "\n",
    "plt.show()"
   ]
  },
  {
   "cell_type": "markdown",
   "metadata": {},
   "source": [
    "As we can see:\n",
    "- `dc-tug` has the lowest quantity of drives, having **4549** units\n",
    "- `dc-tur` has the highest quantity of drives, having **5240** units\n",
    "\n",
    "--------\n"
   ]
  },
  {
   "cell_type": "markdown",
   "metadata": {},
   "source": [
    "**How many disks are in total:**\n",
    "\n",
    "Because each disk that I can find, will always has a unique serial number, in consequence, row numbers will be equal to the number of disks. Besides the fact that at the beginning I compute it with `df.describe()` function. I will print below the "
   ]
  },
  {
   "cell_type": "code",
   "execution_count": null,
   "metadata": {},
   "outputs": [],
   "source": [
    "data_ovh_disks_per_DC.sum()"
   ]
  },
  {
   "cell_type": "markdown",
   "metadata": {},
   "source": [
    "----------------------\n",
    "### Which disk is the youngest/oldest one and what is its age (in days):\n",
    "\n",
    "To solve this task I will use `pandas` Series.min and Series.max methods.\n",
    "Because I need to know the output in days, instead of seconds, I will divide the output by 86400 which is 24 hours multiplied by 60 seconds multiplied by 60 minutes. I.e. seconds * minutes * hours = day."
   ]
  },
  {
   "cell_type": "code",
   "execution_count": null,
   "metadata": {},
   "outputs": [],
   "source": [
    "# #test:\n",
    "# print(\"data_ovh['DiskAge(InS)'].min() ====>\", data_ovh['DiskAge(InS)'].min())\n",
    "\n",
    "youngest_drive_age = (\n",
    "    data_ovh['DiskAge(InS)']\n",
    "    .min() \n",
    "    / 86400 # conversion from sec to days\n",
    ")\n",
    "\n",
    "print(\n",
    "    \"`youngest_drive_age` has:\",\n",
    "    round(youngest_drive_age,4),\n",
    "    \"days\"\n",
    ")"
   ]
  },
  {
   "cell_type": "code",
   "execution_count": null,
   "metadata": {},
   "outputs": [],
   "source": [
    "# #test:\n",
    "# print(\"data_ovh['DiskAge(InS)'].max() ====> \", data_ovh['DiskAge(InS)'].max())\n",
    "\n",
    "oldest_drive_age = (\n",
    "    data_ovh['DiskAge(InS)']\n",
    "    .max()\n",
    "    / 86400 # conversion from sec to days\n",
    ")\n",
    "\n",
    "print(\n",
    "    \"`oldest_drive_age` has:\",\n",
    "    round(oldest_drive_age, 4),\n",
    "    \"days\"\n",
    ")"
   ]
  },
  {
   "cell_type": "code",
   "execution_count": null,
   "metadata": {},
   "outputs": [],
   "source": [
    "youngest_drive_val = data_ovh['DiskAge(InS)'].min()\n",
    "oldest_drive_val = data_ovh['DiskAge(InS)'].max()\n",
    "\n",
    "youngest_drive = data_ovh.loc[\n",
    "    data_ovh['DiskAge(InS)'] == youngest_drive_val,\n",
    "    ['DiskSerial']\n",
    "]\n",
    "\n",
    "oldest_drive = data_ovh.loc[\n",
    "    data_ovh['DiskAge(InS)'] == oldest_drive_val,\n",
    "    ['DiskSerial']\n",
    "]\n",
    "\n",
    "younges_oldest_drives = pd.concat(\n",
    "    [youngest_drive, oldest_drive],\n",
    "    keys=['youngest drive', 'oldest drive'],\n",
    "    names=['type', 'Index']\n",
    ")\n",
    "\n",
    "\"\"\"\n",
    "At this point, it would be nice to have one index, \n",
    "so I need to reshape the multi-index.\n",
    "\n",
    "Inspiration from:\n",
    "https://stackoverflow.com/questions/20110170/turn-pandas-multi-index-into-column\n",
    "\"\"\"\n",
    "younges_oldest_drives = younges_oldest_drives.reset_index()  \n",
    "\n",
    "\"\"\"\n",
    "I need to first `round()` values before I will convert them to `int`. \n",
    "Without that the value will be rounded less accurate.\n",
    "\"\"\"\n",
    "\n",
    "younges_oldest_days_list = [\n",
    "    round(youngest_drive_age, 0),\n",
    "    round(oldest_drive_age, 0)\n",
    "]\n",
    "\n",
    "younges_oldest_drives['age (in days)'] = younges_oldest_days_list\n",
    "\n",
    "younges_oldest_drives['age (in days)'] = (\n",
    "    younges_oldest_drives['age (in days)']\n",
    "    .astype(int)\n",
    ")\n",
    "\n",
    "younges_oldest_drives"
   ]
  },
  {
   "cell_type": "code",
   "execution_count": null,
   "metadata": {},
   "outputs": [],
   "source": [
    "print(\"2074 days it's\", round(oldest_drive_age / 365, 2), \"years\")"
   ]
  },
  {
   "cell_type": "markdown",
   "metadata": {},
   "source": [
    "As we can see, the difference between the youngest and the oldest disc is significant.\n",
    "When averaging the result over the days, the difference between the disks is 2,074 days.\n",
    "It's more than five and a half years: **5.68** years.\n",
    "\n",
    "Youngest drive has index: `5899`, serial number: **`WHEJNKGW99`** and less than one day running.\n",
    "\n",
    "Oldest drive has index: `14418 \t`, serial number: **`HBWRKAXG18`** and `2074` days."
   ]
  },
  {
   "cell_type": "markdown",
   "metadata": {},
   "source": [
    "### What's the average disk age per DC (in days)\n",
    "\n",
    "This case is similar to previous: *How many disks are in total and in each DC*. I will use `df.groupby()` function too.\n",
    "\n",
    "After that I will create a new **series** called `disk_avg_age` from this grouped **data frame** called `data_ovh_grouped`, I will use it for further computing with the `Series.mean()` function on 'DiskAge(InS)' column. \n",
    "\n",
    "Finally, `disk_avg_age` series will output the mean disk age, rounded with `round()` function and convert from seconds to days, thanks for my previous approach. "
   ]
  },
  {
   "cell_type": "code",
   "execution_count": null,
   "metadata": {},
   "outputs": [],
   "source": [
    "data_ovh_grouped = data_ovh.groupby('Data_Ovhcenter')\n",
    "\n",
    "# data_ovh_grouped.head() # Test\n",
    "\n",
    "disk_avg_age = round(\n",
    "    data_ovh_grouped['DiskAge(InS)'].mean() / 86400,\n",
    "    0\n",
    ") # conversion from sec to days\n",
    "\n",
    "disk_avg_age = (\n",
    "    disk_avg_age\n",
    "    .sort_values(ascending=True)\n",
    "    .astype(int)\n",
    ")\n",
    "\n",
    "disk_avg_age"
   ]
  },
  {
   "cell_type": "code",
   "execution_count": null,
   "metadata": {},
   "outputs": [],
   "source": [
    "# let's do a plot:\n",
    "fig2, ax = plt.subplots(figsize=(15,4))\n",
    "\n",
    "\"\"\"\n",
    "The axis is drawn as a unit, so the effective zorder for drawing \n",
    "the grid is determined by the zorder of each axis, \n",
    "not by the zorder of the Line2D objects comprising the grid. \n",
    "Therefore, to set grid zorder, use set_axisbelow or, \n",
    "for more control, call the set_zorder method of each axis.\n",
    "\n",
    "Inspiration from: \n",
    "https://stackoverflow.com/questions/31506361/grid-zorder-seems-not-to-take-effect-matplotlib\n",
    "\"\"\"\n",
    "ax.set_axisbelow(True)\n",
    "\n",
    "\"\"\"\n",
    "for the sake of using colours from the colour-blind page: \n",
    "http://tableaufriction.blogspot.com/2012/11/finally-you-can-use-tableau-data-colors.html\n",
    "I need to convert int to float between 0 and 1 for RGB values like 255.187.120 (orange colour).\n",
    "The value 174.199.232 is from the mentioned page.\n",
    "It is so because matplotlib needs it in such a format.\n",
    "\n",
    "Inspired from:\n",
    "https://stackoverflow.com/questions/41643189/plotting-just-a-single-rgb-color-in-matplotlib\n",
    "\"\"\"\n",
    "ax = disk_avg_age.plot.bar(\n",
    "    fontsize=15,\n",
    "    zorder=1,\n",
    "    color=(255/255, 187/255, 120/255)\n",
    ") # 'zorder' is bar layaut order\n",
    "\n",
    "\n",
    "\"\"\"\n",
    "Below is a for loop for displaying values above their respective bars.\n",
    "\n",
    "Inspiration from:\n",
    "https://stackoverflow.com/questions/63146552/how-do-i-display-these-values-above-their-respective-bars-on-this-bar-chart-with\n",
    "\"\"\"\n",
    "for p in ax.patches:\n",
    "    ax.annotate(s=p.get_height(),\n",
    "                xy=(p.get_x()+p.get_width()/2.,\n",
    "                    p.get_height()\n",
    "                   ),\n",
    "                ha='center',\n",
    "                va='center',\n",
    "                xytext=(0, 10),\n",
    "                textcoords='offset points'\n",
    "               )\n",
    "\n",
    "ax.spines[\"right\"].set_visible(False)    \n",
    "ax.spines[\"left\"].set_visible(False)\n",
    "ax.spines[\"top\"].set_visible(False)    \n",
    "ax.spines[\"bottom\"].set_visible(False)\n",
    "\n",
    "ax.set_title(\n",
    "    \"What's the average disk age per DC (in days)\",\n",
    "    fontsize=50\n",
    ")\n",
    "\n",
    "ax.set_xticklabels(\n",
    "    data_ovh_disks_per_DC.index,\n",
    "    rotation=34.56789,\n",
    "    fontsize='xx-large'\n",
    ") # We will set xticklabels in angle to be easier to read)\n",
    "# The labels are centred horizontally, so when we rotate them 34.56789°\n",
    "\n",
    "ax.grid(axis='y', zorder=0) # 'zorder' is bar layaut order\n",
    "\n",
    "plt.ylim([720, 745])\n",
    "\n",
    "plt.show()"
   ]
  },
  {
   "cell_type": "markdown",
   "metadata": {},
   "source": [
    "### Find the top 5 disks with the lowest/highest average IO/s (reads+writes, print disks and their avg IO/s):\n",
    "\n",
    "For this task, I can use `nsmallest()` and `nlargest()` functions on `AverageIOLatencyFrom5Minutes(InMs)` column. Additionally, I will pass `5` argument inside each function, to find all the top 5 disks from both categories: highest and lowest."
   ]
  },
  {
   "cell_type": "code",
   "execution_count": null,
   "metadata": {},
   "outputs": [],
   "source": [
    "top_five_io_hi = (\n",
    "    data_ovh['AverageIOLatencyFrom5Minutes(InMs)']\n",
    "    .nlargest(5)\n",
    ")\n",
    "top_five_io_hi"
   ]
  },
  {
   "cell_type": "code",
   "execution_count": null,
   "metadata": {},
   "outputs": [],
   "source": [
    "top_five_io_lo = (\n",
    "    data_ovh['AverageIOLatencyFrom5Minutes(InMs)']\n",
    "    .nsmallest(5)\n",
    ")\n",
    "top_five_io_lo"
   ]
  },
  {
   "cell_type": "code",
   "execution_count": null,
   "metadata": {},
   "outputs": [],
   "source": [
    "\"\"\"\n",
    "I will use `.index` method, \n",
    "because without it I will lose index pre-column \n",
    "which may be important for someone.\n",
    "\"\"\"\n",
    "\n",
    "top_five_io_hi_df = (\n",
    "    data_ovh.loc[top_five_io_hi.index]\n",
    "    [[\n",
    "        'TotalReads',\n",
    "        'TotalWrites',\n",
    "        'DiskSerial',\n",
    "        'AverageIOLatencyFrom5Minutes(InMs)'\n",
    "    ]]\n",
    ")\n",
    "\n",
    "top_five_io_hi_df"
   ]
  },
  {
   "cell_type": "code",
   "execution_count": null,
   "metadata": {},
   "outputs": [],
   "source": [
    "\"\"\"\n",
    "I will use `.index` method, \n",
    "because without it I will lose index pre-column \n",
    "which may be important for someone.\n",
    "\"\"\"\n",
    "top_five_io_lo_df = (\n",
    "    data_ovh.loc[top_five_io_lo.index]\n",
    "    [[\n",
    "        'TotalReads',\n",
    "        'TotalWrites',\n",
    "        'DiskSerial',\n",
    "        'AverageIOLatencyFrom5Minutes(InMs)'\n",
    "    ]]\n",
    ")    \n",
    "\n",
    "top_five_io_lo_df"
   ]
  },
  {
   "cell_type": "markdown",
   "metadata": {},
   "source": [
    "`top_five_io_lo` doesn't seem to be correct because even ram doesn't have `0ms` latency. If I assume that `0` is an outliner then I need to drop all rows with the `0` value in `AverageIOLatencyFrom5Minutes(InMs)` to find the top 5 disks with the lowest average IO/s. **This issue has to be addressed because without information about disks specification I don't know for sure is 1ms a proper lowest value that should be set in boolean comparison.**\n",
    " \n",
    "In the updated approach, I will chain the `where` method with the `lambda x: x > 0`, with that I will look for the smallest values using `nsmallest()`.\n",
    "\n",
    "If disks documentation will point out that for example, the lowest possible latency is `10 ms`, then I will change `lambda x: x > 0` to `lambda x: x > 10`.\n",
    "\n",
    "\n",
    "Finally, there should be addressed a question: is the fact of having `AverageIOLatencyFrom5Minutes(InMs)` == 0 isn't a hidden bug. Maybe those rows should be dropped? Maybe it should be addressed to some support or HQ? \n",
    "Also, it should be investigated what happens with those disks. [**Some `black box` and `white box` testing**](https://www.practitest.com/qa-learningcenter/resources/black-box-vs-white-box-testing/) may be required. \n"
   ]
  },
  {
   "cell_type": "code",
   "execution_count": null,
   "metadata": {},
   "outputs": [],
   "source": [
    "top_five_io_lo_no_zero = (\n",
    "    data_ovh['AverageIOLatencyFrom5Minutes(InMs)']\n",
    "    .where(lambda x: x > 0)\n",
    "    .nsmallest(5)\n",
    ")\n",
    "\n",
    "top_five_io_lo_no_zero"
   ]
  },
  {
   "cell_type": "code",
   "execution_count": null,
   "metadata": {},
   "outputs": [],
   "source": [
    "\"\"\"\n",
    "I will use `.index` method, \n",
    "because without it I will lose index pre-column \n",
    "which may be important for someone.\n",
    "\"\"\"\n",
    "top_five_io_lo_df = (\n",
    "    data_ovh.loc[top_five_io_lo_no_zero.index]\n",
    "    [[\n",
    "        'TotalReads',\n",
    "        'TotalWrites',\n",
    "        'DiskSerial',\n",
    "        'AverageIOLatencyFrom5Minutes(InMs)'\n",
    "    ]]\n",
    ")\n",
    "\n",
    "top_five_io_lo_df"
   ]
  },
  {
   "cell_type": "markdown",
   "metadata": {},
   "source": [
    "##### Below a list of potential outliners with `AverageIOLatencyFrom5Minutes(InMs) == 0`:"
   ]
  },
  {
   "cell_type": "code",
   "execution_count": null,
   "metadata": {},
   "outputs": [],
   "source": [
    "suspected_io_with_zero = (\n",
    "    data_ovh[data_ovh['AverageIOLatencyFrom5Minutes(InMs)'] == 0]\n",
    ")\n",
    "\n",
    "suspected_io_with_zero.head()"
   ]
  },
  {
   "cell_type": "code",
   "execution_count": null,
   "metadata": {},
   "outputs": [],
   "source": [
    "suspected_io_with_zero.size"
   ]
  },
  {
   "cell_type": "code",
   "execution_count": null,
   "metadata": {},
   "outputs": [],
   "source": [
    "suspected_io_with_zero_table = pd.pivot_table(\n",
    "    suspected_io_with_zero,\n",
    "    values='DiskSerial',\n",
    "    index='Data_Ovhcenter',\n",
    "    aggfunc=np.size\n",
    ")\n",
    "\n",
    "suspected_io_with_zero_table"
   ]
  },
  {
   "cell_type": "markdown",
   "metadata": {},
   "source": [
    "I found 378 instances where `['AverageIOLatencyFrom5Minutes(InMs)'] == 0`.\n",
    "\n",
    "Most instances are located in `Data_Ovhcenter`: `dc-tur` but they are in each `Data_Ovhcenter`!"
   ]
  },
  {
   "cell_type": "markdown",
   "metadata": {},
   "source": [
    "--------------------------- \n",
    "I found that the Average IO latency from 5 minutes(In Ms) is from 0 (or 1) to 36 `Ms`. \n",
    "\n",
    "It is possible that further investigation has to be made with outliers."
   ]
  },
  {
   "cell_type": "markdown",
   "metadata": {},
   "source": [
    "### Final conclusions:\n",
    "\n",
    "To present a bigger picture from this analysis, I will displat plots from several parts of this whole project.\n",
    "\n",
    "I will also create a new data frame called `final_data_frame` with columns listed below:\n",
    "- 'disk avg age(days)'\n",
    "- 'data ovh disks per DC'\n",
    "- 'top_five_io_lo_series_new'\n",
    "- 'top_five_io_hi_series_new'\n",
    "- 'data_ovh_disks_per_DC'\n",
    "\n",
    "With all of that I will be able to see easily all the data."
   ]
  },
  {
   "cell_type": "code",
   "execution_count": null,
   "metadata": {},
   "outputs": [],
   "source": [
    "top_five_io_hi_df_new = (\n",
    "    data_ovh.loc[top_five_io_hi_df.index]\n",
    "    [['Data_Ovhcenter', 'AverageIOLatencyFrom5Minutes(InMs)']]\n",
    ")\n",
    "\n",
    "top_five_io_hi_df_new = (\n",
    "    top_five_io_hi_df_new\n",
    "    .set_index('Data_Ovhcenter')\n",
    ")\n",
    "\n",
    "\"\"\"\n",
    "I can then use df.squeeze() to convert the DataFrame into a Series:\n",
    "\"\"\"\n",
    "top_five_io_hi_series_new = top_five_io_hi_df_new.squeeze() \n",
    "\n",
    "top_five_io_hi_series_new"
   ]
  },
  {
   "cell_type": "code",
   "execution_count": null,
   "metadata": {},
   "outputs": [],
   "source": [
    "\"\"\"\n",
    "let's groupby output:\n",
    "\"\"\"\n",
    "top_five_io_hi_series_new = (\n",
    "    top_five_io_hi_series_new\n",
    "    .groupby(level=0)\n",
    "    .mean()\n",
    ")\n",
    "\n",
    "top_five_io_hi_series_new"
   ]
  },
  {
   "cell_type": "code",
   "execution_count": null,
   "metadata": {},
   "outputs": [],
   "source": [
    "top_five_io_lo_df_new = (\n",
    "    data_ovh.loc[top_five_io_lo_df.index]\n",
    "    [['Data_Ovhcenter', 'AverageIOLatencyFrom5Minutes(InMs)']]\n",
    ")\n",
    "\n",
    "top_five_io_lo_df_new = (\n",
    "    top_five_io_lo_df_new\n",
    "    .set_index('Data_Ovhcenter')\n",
    ")\n",
    "\n",
    "\n",
    "\"\"\"\n",
    "I can then use df.squeeze() to convert the DataFrame into a Series:\n",
    "\"\"\"\n",
    "top_five_io_lo_series_new = top_five_io_lo_df_new.squeeze() \n",
    "\n",
    "top_five_io_lo_series_new"
   ]
  },
  {
   "cell_type": "code",
   "execution_count": null,
   "metadata": {},
   "outputs": [],
   "source": [
    "\"\"\"\n",
    "let's groupby output:\n",
    "\"\"\"\n",
    "top_five_io_lo_series_new = (\n",
    "    top_five_io_lo_series_new\n",
    "    .groupby(level=0)\n",
    "    .mean()\n",
    ")\n",
    "\n",
    "top_five_io_lo_series_new"
   ]
  },
  {
   "cell_type": "code",
   "execution_count": null,
   "metadata": {},
   "outputs": [],
   "source": [
    "d = {\n",
    "    'disk avg age(days)': disk_avg_age,\n",
    "    'data ovh disks per DC': data_ovh_disks_per_DC,\n",
    "    'top_five_io_lo_series_new': top_five_io_lo_series_new,\n",
    "    'top_five_io_hi_series_new': top_five_io_hi_series_new,\n",
    "    'data_ovh_disks_per_DC': data_ovh_disks_per_DC\n",
    "}\n",
    "\n",
    "final_data_frame = pd.DataFrame(data=d)\n",
    "final_data_frame"
   ]
  },
  {
   "cell_type": "code",
   "execution_count": null,
   "metadata": {},
   "outputs": [],
   "source": [
    "fig1"
   ]
  },
  {
   "cell_type": "code",
   "execution_count": null,
   "metadata": {},
   "outputs": [],
   "source": [
    "fig2"
   ]
  },
  {
   "cell_type": "markdown",
   "metadata": {},
   "source": [
    "From the collected data I can see that:\n",
    "\n",
    "- `dc-tur` has the highest quantity of disks from all `Data_Ovhcenter`. It also has the oldest disks. \n",
    "\n",
    "\n",
    "- `dc-tug` has the lowest quantity of disks among all `Data_Ovhcenter`. It also has the youngest disks. Because the `dc-tug` is the youngest, I assume, that it's the reason why I don't have information about values in columns: `top_five_io_lo_series_new` and `top_five_io_hi_series_new`.\n",
    "\n",
    "\n",
    "- `dc-bzy` has the highest latency in `top_five_io_hi_series_new`. That's odd because it's almost the youngest, so it's possible that there is a need for some revision in the whole system. Something might be wrong with efficiency there. I suggest doing some [**`black box` and `white box` testing**](https://www.practitest.com/qa-learningcenter/resources/black-box-vs-white-box-testing/). "
   ]
  },
  {
   "cell_type": "code",
   "execution_count": null,
   "metadata": {},
   "outputs": [],
   "source": [
    "\"\"\"\n",
    "Thank you for your attention. \n",
    "Below, an easter egg running in Jupyter Notebook \n",
    "(using an open-source library that I wrote. More details at: https://pypi.org/project/get-gifNimage/ )\n",
    "\"\"\"\n",
    "\n",
    "# # !pip install get-gifNimage  | grep -v 'already satisfied'\n",
    "\n",
    "# import get_gifNimage\n",
    "# from get_gifNimage import get_gifNimage\n",
    "# get_gifNimage('https://media.giphy.com/media/W80Y9y1XwiL84/giphy.gif')"
   ]
  }
 ],
 "metadata": {
  "kernelspec": {
   "display_name": "Python 3",
   "language": "python",
   "name": "python3"
  },
  "language_info": {
   "codemirror_mode": {
    "name": "ipython",
    "version": 3
   },
   "file_extension": ".py",
   "mimetype": "text/x-python",
   "name": "python",
   "nbconvert_exporter": "python",
   "pygments_lexer": "ipython3",
   "version": "3.7.4"
  }
 },
 "nbformat": 4,
 "nbformat_minor": 2
}
