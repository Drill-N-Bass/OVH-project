{
 "cells": [
  {
   "cell_type": "markdown",
   "metadata": {},
   "source": [
    "# OVH Projet:\n",
    "\n",
    "#### The goal of this task is to prepare statistical analysis of set of data_ovh from disks.\n",
    "\n",
    "Each entry of the data_ovh set consists of following fields separated by `;`\n",
    "character:\n",
    "\n",
    "- `data_ovhcenter`\n",
    "- `hostname`\n",
    "- `disk serial`\n",
    "- `disk age (in s)`\n",
    "- `total reads`\n",
    "- `total writes`\n",
    "- `average IO latency from 5 minutes (in ms)`\n",
    "- `total uncorrected read errors`\n",
    "- `total uncorrected write errors`\n",
    "\n",
    "The proper solution (a script in Python) should output following\n",
    "information:\n",
    "\n",
    "- How many disks are in total and in each DC\n",
    "- Which disk is the youngest/oldest one and what is its age (in days)\n",
    "- What's the average disk age per DC (in days)\n",
    "- How many read/write IO/s disks processes on average\n",
    "- Find top 5 disks with lowest/highest average IO/s (reads+writes, print disks and their avg IO/s)\n",
    "- Find disks which are most probably broken, i.e. have non-zero uncorrected errors (print disks and error counter)\n",
    "\n",
    "There should also be tests that verify if parts of the script are processing data_ovh properly.\n",
    "\n",
    "-----------------------\n",
    "------------------------"
   ]
  },
  {
   "cell_type": "markdown",
   "metadata": {},
   "source": [
    "### Data analysis and cleaning\n",
    "\n",
    "Let's start by reading the datasets into pandas and exploring them.\n",
    "\n",
    "The next steps I will be to:\n",
    "\n",
    "- Use the **`DataFrame.info()`** and **`DataFrame.head()`** methods to print information about both dataframes, as well as the first few rows.\n",
    "- **`DataFrame.shape`** - to find the shape of the whole `DataFrame`.\n",
    "- **`DataFrame.describe()`** (with and without **`include='all'`** to get both categorical and numeric columns).\n",
    "- **`Series.value_counts()`**, **`Series.head()`**  and **`DataFrame.isnull()`** methods to explore the data and figure out some next steps, or if any columns need a closer look.\n",
    "\n",
    "-----------------------\n",
    "##### Disclaimer:\n",
    "\n",
    "*As I do not know what is the broader context of the purpose for which I am carrying out the analysis, I decided to choose the `Pandas` library for further work. I am aware that for very large data sets it is not the fastest library. However, since the set has only 25,000 rows, I will stick to 'Pandas'.*\n",
    "\n",
    "*In other situations, you may consider:*\n",
    "\n",
    "\n",
    "- Vectorization\n",
    "- Cython routines\n",
    "- List Comprehensions (vanilla for loop)\n",
    "- `DataFrame.apply` ():\n",
    "    - 1) Reductions that can be performed in Cython, \n",
    "    - 2) Iteration in Python space\n",
    "    \n",
    "- `DataFrame.itertuples()` and `iteritems()`\n",
    "- `DataFrame.iterrows()`\n",
    "\n",
    "*More about it we can find [here](https://stackoverflow.com/questions/24870953/does-pandas-iterrows-have-performance-issues) and [here](https://stackoverflow.com/questions/16476924/how-to-iterate-over-rows-in-a-dataframe-in-pandas/55557758#55557758).*"
   ]
  },
  {
   "cell_type": "code",
   "execution_count": 1,
   "metadata": {},
   "outputs": [
    {
     "data": {
      "text/html": [
       "<div>\n",
       "<style scoped>\n",
       "    .dataframe tbody tr th:only-of-type {\n",
       "        vertical-align: middle;\n",
       "    }\n",
       "\n",
       "    .dataframe tbody tr th {\n",
       "        vertical-align: top;\n",
       "    }\n",
       "\n",
       "    .dataframe thead th {\n",
       "        text-align: right;\n",
       "    }\n",
       "</style>\n",
       "<table border=\"1\" class=\"dataframe\">\n",
       "  <thead>\n",
       "    <tr style=\"text-align: right;\">\n",
       "      <th></th>\n",
       "      <th>Data_Ovhcenter</th>\n",
       "      <th>Hostname</th>\n",
       "      <th>DiskSerial</th>\n",
       "      <th>DiskAge(InS)</th>\n",
       "      <th>TotalReads</th>\n",
       "      <th>TotalWrites</th>\n",
       "      <th>AverageIOLatencyFrom5Minutes(InMs)</th>\n",
       "      <th>TotalUncorrectedReadErrors</th>\n",
       "      <th>TotalUncorrectedWriteErrors</th>\n",
       "    </tr>\n",
       "  </thead>\n",
       "  <tbody>\n",
       "    <tr>\n",
       "      <td>0</td>\n",
       "      <td>dc-fqu</td>\n",
       "      <td>host-000865.dc-fqu.storage.ovh</td>\n",
       "      <td>OQAZWMEH00</td>\n",
       "      <td>88708764</td>\n",
       "      <td>1615982187</td>\n",
       "      <td>902312187</td>\n",
       "      <td>16</td>\n",
       "      <td>0</td>\n",
       "      <td>0</td>\n",
       "    </tr>\n",
       "    <tr>\n",
       "      <td>1</td>\n",
       "      <td>dc-tur</td>\n",
       "      <td>host-001039.dc-tur.storage.ovh</td>\n",
       "      <td>GJJFFTWA01</td>\n",
       "      <td>3624579</td>\n",
       "      <td>2357337</td>\n",
       "      <td>31100109</td>\n",
       "      <td>20</td>\n",
       "      <td>0</td>\n",
       "      <td>0</td>\n",
       "    </tr>\n",
       "    <tr>\n",
       "      <td>2</td>\n",
       "      <td>dc-bzy</td>\n",
       "      <td>host-000487.dc-bzy.storage.ovh</td>\n",
       "      <td>MOBCPZSQ02</td>\n",
       "      <td>65789402</td>\n",
       "      <td>2657091964</td>\n",
       "      <td>471399188</td>\n",
       "      <td>21</td>\n",
       "      <td>0</td>\n",
       "      <td>0</td>\n",
       "    </tr>\n",
       "    <tr>\n",
       "      <td>3</td>\n",
       "      <td>dc-gxj</td>\n",
       "      <td>host-000801.dc-gxj.storage.ovh</td>\n",
       "      <td>USEUAPSE03</td>\n",
       "      <td>48096270</td>\n",
       "      <td>2017220839</td>\n",
       "      <td>130159678</td>\n",
       "      <td>23</td>\n",
       "      <td>0</td>\n",
       "      <td>0</td>\n",
       "    </tr>\n",
       "    <tr>\n",
       "      <td>4</td>\n",
       "      <td>dc-tur</td>\n",
       "      <td>host-001860.dc-tur.storage.ovh</td>\n",
       "      <td>UCXZEOND04</td>\n",
       "      <td>43085214</td>\n",
       "      <td>984311733</td>\n",
       "      <td>699974718</td>\n",
       "      <td>19</td>\n",
       "      <td>0</td>\n",
       "      <td>0</td>\n",
       "    </tr>\n",
       "  </tbody>\n",
       "</table>\n",
       "</div>"
      ],
      "text/plain": [
       "  Data_Ovhcenter                        Hostname  DiskSerial  DiskAge(InS)  \\\n",
       "0         dc-fqu  host-000865.dc-fqu.storage.ovh  OQAZWMEH00      88708764   \n",
       "1         dc-tur  host-001039.dc-tur.storage.ovh  GJJFFTWA01       3624579   \n",
       "2         dc-bzy  host-000487.dc-bzy.storage.ovh  MOBCPZSQ02      65789402   \n",
       "3         dc-gxj  host-000801.dc-gxj.storage.ovh  USEUAPSE03      48096270   \n",
       "4         dc-tur  host-001860.dc-tur.storage.ovh  UCXZEOND04      43085214   \n",
       "\n",
       "   TotalReads  TotalWrites  AverageIOLatencyFrom5Minutes(InMs)  \\\n",
       "0  1615982187    902312187                                  16   \n",
       "1     2357337     31100109                                  20   \n",
       "2  2657091964    471399188                                  21   \n",
       "3  2017220839    130159678                                  23   \n",
       "4   984311733    699974718                                  19   \n",
       "\n",
       "   TotalUncorrectedReadErrors  TotalUncorrectedWriteErrors  \n",
       "0                           0                            0  \n",
       "1                           0                            0  \n",
       "2                           0                            0  \n",
       "3                           0                            0  \n",
       "4                           0                            0  "
      ]
     },
     "execution_count": 1,
     "metadata": {},
     "output_type": "execute_result"
    }
   ],
   "source": [
    "import numpy as np\n",
    "import pandas as pd\n",
    "\n",
    "# The Jupyter magic %matplotlib inline allows plots to be displayed inline.\n",
    "%matplotlib inline \n",
    "import matplotlib.pyplot as plt\n",
    "import seaborn as sns\n",
    "\n",
    "with open('data.raw', 'r') as file1:\n",
    "    data_ovh = pd.read_csv(\n",
    "        file1,\n",
    "        sep=\";\",\n",
    "        header=None\n",
    "    )\n",
    "    \n",
    "# print(data_ovh) #test\n",
    "# create a dictionary with keys and lists.\n",
    "\n",
    "col_names_list = ['data_ovhcenter', \n",
    "    'hostname', \n",
    "    'disk serial', \n",
    "    'disk age (in s)', \n",
    "    'total reads', \n",
    "    'total writes', \n",
    "    'average I O latency from 5 minutes (in ms)', \n",
    "    'total uncorrected read errors', \n",
    "    'total uncorrected write errors']\n",
    "\n",
    "# Camel sase for tittles in columns:\n",
    "col_names_list = [\n",
    "    n.title().replace(' ', '') \n",
    "    for n in col_names_list\n",
    "]\n",
    "# print(col) # test\n",
    "\n",
    "data_ovh.columns = col_names_list\n",
    "\n",
    "data_ovh.head()"
   ]
  },
  {
   "cell_type": "code",
   "execution_count": 2,
   "metadata": {},
   "outputs": [
    {
     "data": {
      "text/plain": [
       "(25000, 9)"
      ]
     },
     "execution_count": 2,
     "metadata": {},
     "output_type": "execute_result"
    }
   ],
   "source": [
    "data_ovh.shape"
   ]
  },
  {
   "cell_type": "code",
   "execution_count": 3,
   "metadata": {
    "scrolled": true
   },
   "outputs": [
    {
     "name": "stdout",
     "output_type": "stream",
     "text": [
      "<class 'pandas.core.frame.DataFrame'>\n",
      "RangeIndex: 25000 entries, 0 to 24999\n",
      "Data columns (total 9 columns):\n",
      "Data_Ovhcenter                        25000 non-null object\n",
      "Hostname                              25000 non-null object\n",
      "DiskSerial                            25000 non-null object\n",
      "DiskAge(InS)                          25000 non-null int64\n",
      "TotalReads                            25000 non-null int64\n",
      "TotalWrites                           25000 non-null int64\n",
      "AverageIOLatencyFrom5Minutes(InMs)    25000 non-null int64\n",
      "TotalUncorrectedReadErrors            25000 non-null int64\n",
      "TotalUncorrectedWriteErrors           25000 non-null int64\n",
      "dtypes: int64(6), object(3)\n",
      "memory usage: 1.7+ MB\n"
     ]
    }
   ],
   "source": [
    "data_ovh.info()"
   ]
  },
  {
   "cell_type": "markdown",
   "metadata": {},
   "source": [
    "Our data in the `data_ovh` data frame has 25000 entries (rows). \n",
    "\n",
    "Three columns are object types and have strings. \n",
    "\n",
    "Six columns have `int64` - in our case integers.\n",
    "\n",
    "\n",
    "---------------------------------------------------------\n"
   ]
  },
  {
   "cell_type": "code",
   "execution_count": 4,
   "metadata": {},
   "outputs": [
    {
     "data": {
      "text/html": [
       "<div>\n",
       "<style scoped>\n",
       "    .dataframe tbody tr th:only-of-type {\n",
       "        vertical-align: middle;\n",
       "    }\n",
       "\n",
       "    .dataframe tbody tr th {\n",
       "        vertical-align: top;\n",
       "    }\n",
       "\n",
       "    .dataframe thead th {\n",
       "        text-align: right;\n",
       "    }\n",
       "</style>\n",
       "<table border=\"1\" class=\"dataframe\">\n",
       "  <thead>\n",
       "    <tr style=\"text-align: right;\">\n",
       "      <th></th>\n",
       "      <th>DiskAge(InS)</th>\n",
       "      <th>TotalReads</th>\n",
       "      <th>TotalWrites</th>\n",
       "      <th>AverageIOLatencyFrom5Minutes(InMs)</th>\n",
       "      <th>TotalUncorrectedReadErrors</th>\n",
       "      <th>TotalUncorrectedWriteErrors</th>\n",
       "    </tr>\n",
       "  </thead>\n",
       "  <tbody>\n",
       "    <tr>\n",
       "      <td>count</td>\n",
       "      <td>2.500000e+04</td>\n",
       "      <td>2.500000e+04</td>\n",
       "      <td>2.500000e+04</td>\n",
       "      <td>25000.000000</td>\n",
       "      <td>25000.000000</td>\n",
       "      <td>25000.00000</td>\n",
       "    </tr>\n",
       "    <tr>\n",
       "      <td>mean</td>\n",
       "      <td>6.352039e+07</td>\n",
       "      <td>1.597572e+09</td>\n",
       "      <td>6.403327e+08</td>\n",
       "      <td>14.503040</td>\n",
       "      <td>0.000080</td>\n",
       "      <td>0.00024</td>\n",
       "    </tr>\n",
       "    <tr>\n",
       "      <td>std</td>\n",
       "      <td>3.036906e+07</td>\n",
       "      <td>1.147848e+09</td>\n",
       "      <td>4.555051e+08</td>\n",
       "      <td>5.005169</td>\n",
       "      <td>0.008944</td>\n",
       "      <td>0.01549</td>\n",
       "    </tr>\n",
       "    <tr>\n",
       "      <td>min</td>\n",
       "      <td>1.984100e+04</td>\n",
       "      <td>2.459900e+05</td>\n",
       "      <td>4.891900e+04</td>\n",
       "      <td>0.000000</td>\n",
       "      <td>0.000000</td>\n",
       "      <td>0.00000</td>\n",
       "    </tr>\n",
       "    <tr>\n",
       "      <td>25%</td>\n",
       "      <td>4.172478e+07</td>\n",
       "      <td>7.240661e+08</td>\n",
       "      <td>2.904965e+08</td>\n",
       "      <td>11.000000</td>\n",
       "      <td>0.000000</td>\n",
       "      <td>0.00000</td>\n",
       "    </tr>\n",
       "    <tr>\n",
       "      <td>50%</td>\n",
       "      <td>6.291107e+07</td>\n",
       "      <td>1.380994e+09</td>\n",
       "      <td>5.611901e+08</td>\n",
       "      <td>14.000000</td>\n",
       "      <td>0.000000</td>\n",
       "      <td>0.00000</td>\n",
       "    </tr>\n",
       "    <tr>\n",
       "      <td>75%</td>\n",
       "      <td>8.429411e+07</td>\n",
       "      <td>2.228170e+09</td>\n",
       "      <td>8.931261e+08</td>\n",
       "      <td>18.000000</td>\n",
       "      <td>0.000000</td>\n",
       "      <td>0.00000</td>\n",
       "    </tr>\n",
       "    <tr>\n",
       "      <td>max</td>\n",
       "      <td>1.791799e+08</td>\n",
       "      <td>1.006793e+10</td>\n",
       "      <td>4.181582e+09</td>\n",
       "      <td>36.000000</td>\n",
       "      <td>1.000000</td>\n",
       "      <td>1.00000</td>\n",
       "    </tr>\n",
       "  </tbody>\n",
       "</table>\n",
       "</div>"
      ],
      "text/plain": [
       "       DiskAge(InS)    TotalReads   TotalWrites  \\\n",
       "count  2.500000e+04  2.500000e+04  2.500000e+04   \n",
       "mean   6.352039e+07  1.597572e+09  6.403327e+08   \n",
       "std    3.036906e+07  1.147848e+09  4.555051e+08   \n",
       "min    1.984100e+04  2.459900e+05  4.891900e+04   \n",
       "25%    4.172478e+07  7.240661e+08  2.904965e+08   \n",
       "50%    6.291107e+07  1.380994e+09  5.611901e+08   \n",
       "75%    8.429411e+07  2.228170e+09  8.931261e+08   \n",
       "max    1.791799e+08  1.006793e+10  4.181582e+09   \n",
       "\n",
       "       AverageIOLatencyFrom5Minutes(InMs)  TotalUncorrectedReadErrors  \\\n",
       "count                        25000.000000                25000.000000   \n",
       "mean                            14.503040                    0.000080   \n",
       "std                              5.005169                    0.008944   \n",
       "min                              0.000000                    0.000000   \n",
       "25%                             11.000000                    0.000000   \n",
       "50%                             14.000000                    0.000000   \n",
       "75%                             18.000000                    0.000000   \n",
       "max                             36.000000                    1.000000   \n",
       "\n",
       "       TotalUncorrectedWriteErrors  \n",
       "count                  25000.00000  \n",
       "mean                       0.00024  \n",
       "std                        0.01549  \n",
       "min                        0.00000  \n",
       "25%                        0.00000  \n",
       "50%                        0.00000  \n",
       "75%                        0.00000  \n",
       "max                        1.00000  "
      ]
     },
     "execution_count": 4,
     "metadata": {},
     "output_type": "execute_result"
    }
   ],
   "source": [
    "data_ovh.describe()"
   ]
  },
  {
   "cell_type": "code",
   "execution_count": 5,
   "metadata": {},
   "outputs": [
    {
     "data": {
      "text/html": [
       "<div>\n",
       "<style scoped>\n",
       "    .dataframe tbody tr th:only-of-type {\n",
       "        vertical-align: middle;\n",
       "    }\n",
       "\n",
       "    .dataframe tbody tr th {\n",
       "        vertical-align: top;\n",
       "    }\n",
       "\n",
       "    .dataframe thead th {\n",
       "        text-align: right;\n",
       "    }\n",
       "</style>\n",
       "<table border=\"1\" class=\"dataframe\">\n",
       "  <thead>\n",
       "    <tr style=\"text-align: right;\">\n",
       "      <th></th>\n",
       "      <th>Data_Ovhcenter</th>\n",
       "      <th>Hostname</th>\n",
       "      <th>DiskSerial</th>\n",
       "      <th>DiskAge(InS)</th>\n",
       "      <th>TotalReads</th>\n",
       "      <th>TotalWrites</th>\n",
       "      <th>AverageIOLatencyFrom5Minutes(InMs)</th>\n",
       "      <th>TotalUncorrectedReadErrors</th>\n",
       "      <th>TotalUncorrectedWriteErrors</th>\n",
       "    </tr>\n",
       "  </thead>\n",
       "  <tbody>\n",
       "    <tr>\n",
       "      <td>count</td>\n",
       "      <td>25000</td>\n",
       "      <td>25000</td>\n",
       "      <td>25000</td>\n",
       "      <td>2.500000e+04</td>\n",
       "      <td>2.500000e+04</td>\n",
       "      <td>2.500000e+04</td>\n",
       "      <td>25000.000000</td>\n",
       "      <td>25000.000000</td>\n",
       "      <td>25000.00000</td>\n",
       "    </tr>\n",
       "    <tr>\n",
       "      <td>unique</td>\n",
       "      <td>5</td>\n",
       "      <td>2000</td>\n",
       "      <td>25000</td>\n",
       "      <td>NaN</td>\n",
       "      <td>NaN</td>\n",
       "      <td>NaN</td>\n",
       "      <td>NaN</td>\n",
       "      <td>NaN</td>\n",
       "      <td>NaN</td>\n",
       "    </tr>\n",
       "    <tr>\n",
       "      <td>top</td>\n",
       "      <td>dc-tur</td>\n",
       "      <td>host-000795.dc-tur.storage.ovh</td>\n",
       "      <td>USHOPATZ41</td>\n",
       "      <td>NaN</td>\n",
       "      <td>NaN</td>\n",
       "      <td>NaN</td>\n",
       "      <td>NaN</td>\n",
       "      <td>NaN</td>\n",
       "      <td>NaN</td>\n",
       "    </tr>\n",
       "    <tr>\n",
       "      <td>freq</td>\n",
       "      <td>5240</td>\n",
       "      <td>28</td>\n",
       "      <td>1</td>\n",
       "      <td>NaN</td>\n",
       "      <td>NaN</td>\n",
       "      <td>NaN</td>\n",
       "      <td>NaN</td>\n",
       "      <td>NaN</td>\n",
       "      <td>NaN</td>\n",
       "    </tr>\n",
       "    <tr>\n",
       "      <td>mean</td>\n",
       "      <td>NaN</td>\n",
       "      <td>NaN</td>\n",
       "      <td>NaN</td>\n",
       "      <td>6.352039e+07</td>\n",
       "      <td>1.597572e+09</td>\n",
       "      <td>6.403327e+08</td>\n",
       "      <td>14.503040</td>\n",
       "      <td>0.000080</td>\n",
       "      <td>0.00024</td>\n",
       "    </tr>\n",
       "    <tr>\n",
       "      <td>std</td>\n",
       "      <td>NaN</td>\n",
       "      <td>NaN</td>\n",
       "      <td>NaN</td>\n",
       "      <td>3.036906e+07</td>\n",
       "      <td>1.147848e+09</td>\n",
       "      <td>4.555051e+08</td>\n",
       "      <td>5.005169</td>\n",
       "      <td>0.008944</td>\n",
       "      <td>0.01549</td>\n",
       "    </tr>\n",
       "    <tr>\n",
       "      <td>min</td>\n",
       "      <td>NaN</td>\n",
       "      <td>NaN</td>\n",
       "      <td>NaN</td>\n",
       "      <td>1.984100e+04</td>\n",
       "      <td>2.459900e+05</td>\n",
       "      <td>4.891900e+04</td>\n",
       "      <td>0.000000</td>\n",
       "      <td>0.000000</td>\n",
       "      <td>0.00000</td>\n",
       "    </tr>\n",
       "    <tr>\n",
       "      <td>25%</td>\n",
       "      <td>NaN</td>\n",
       "      <td>NaN</td>\n",
       "      <td>NaN</td>\n",
       "      <td>4.172478e+07</td>\n",
       "      <td>7.240661e+08</td>\n",
       "      <td>2.904965e+08</td>\n",
       "      <td>11.000000</td>\n",
       "      <td>0.000000</td>\n",
       "      <td>0.00000</td>\n",
       "    </tr>\n",
       "    <tr>\n",
       "      <td>50%</td>\n",
       "      <td>NaN</td>\n",
       "      <td>NaN</td>\n",
       "      <td>NaN</td>\n",
       "      <td>6.291107e+07</td>\n",
       "      <td>1.380994e+09</td>\n",
       "      <td>5.611901e+08</td>\n",
       "      <td>14.000000</td>\n",
       "      <td>0.000000</td>\n",
       "      <td>0.00000</td>\n",
       "    </tr>\n",
       "    <tr>\n",
       "      <td>75%</td>\n",
       "      <td>NaN</td>\n",
       "      <td>NaN</td>\n",
       "      <td>NaN</td>\n",
       "      <td>8.429411e+07</td>\n",
       "      <td>2.228170e+09</td>\n",
       "      <td>8.931261e+08</td>\n",
       "      <td>18.000000</td>\n",
       "      <td>0.000000</td>\n",
       "      <td>0.00000</td>\n",
       "    </tr>\n",
       "    <tr>\n",
       "      <td>max</td>\n",
       "      <td>NaN</td>\n",
       "      <td>NaN</td>\n",
       "      <td>NaN</td>\n",
       "      <td>1.791799e+08</td>\n",
       "      <td>1.006793e+10</td>\n",
       "      <td>4.181582e+09</td>\n",
       "      <td>36.000000</td>\n",
       "      <td>1.000000</td>\n",
       "      <td>1.00000</td>\n",
       "    </tr>\n",
       "  </tbody>\n",
       "</table>\n",
       "</div>"
      ],
      "text/plain": [
       "       Data_Ovhcenter                        Hostname  DiskSerial  \\\n",
       "count           25000                           25000       25000   \n",
       "unique              5                            2000       25000   \n",
       "top            dc-tur  host-000795.dc-tur.storage.ovh  USHOPATZ41   \n",
       "freq             5240                              28           1   \n",
       "mean              NaN                             NaN         NaN   \n",
       "std               NaN                             NaN         NaN   \n",
       "min               NaN                             NaN         NaN   \n",
       "25%               NaN                             NaN         NaN   \n",
       "50%               NaN                             NaN         NaN   \n",
       "75%               NaN                             NaN         NaN   \n",
       "max               NaN                             NaN         NaN   \n",
       "\n",
       "        DiskAge(InS)    TotalReads   TotalWrites  \\\n",
       "count   2.500000e+04  2.500000e+04  2.500000e+04   \n",
       "unique           NaN           NaN           NaN   \n",
       "top              NaN           NaN           NaN   \n",
       "freq             NaN           NaN           NaN   \n",
       "mean    6.352039e+07  1.597572e+09  6.403327e+08   \n",
       "std     3.036906e+07  1.147848e+09  4.555051e+08   \n",
       "min     1.984100e+04  2.459900e+05  4.891900e+04   \n",
       "25%     4.172478e+07  7.240661e+08  2.904965e+08   \n",
       "50%     6.291107e+07  1.380994e+09  5.611901e+08   \n",
       "75%     8.429411e+07  2.228170e+09  8.931261e+08   \n",
       "max     1.791799e+08  1.006793e+10  4.181582e+09   \n",
       "\n",
       "        AverageIOLatencyFrom5Minutes(InMs)  TotalUncorrectedReadErrors  \\\n",
       "count                         25000.000000                25000.000000   \n",
       "unique                                 NaN                         NaN   \n",
       "top                                    NaN                         NaN   \n",
       "freq                                   NaN                         NaN   \n",
       "mean                             14.503040                    0.000080   \n",
       "std                               5.005169                    0.008944   \n",
       "min                               0.000000                    0.000000   \n",
       "25%                              11.000000                    0.000000   \n",
       "50%                              14.000000                    0.000000   \n",
       "75%                              18.000000                    0.000000   \n",
       "max                              36.000000                    1.000000   \n",
       "\n",
       "        TotalUncorrectedWriteErrors  \n",
       "count                   25000.00000  \n",
       "unique                          NaN  \n",
       "top                             NaN  \n",
       "freq                            NaN  \n",
       "mean                        0.00024  \n",
       "std                         0.01549  \n",
       "min                         0.00000  \n",
       "25%                         0.00000  \n",
       "50%                         0.00000  \n",
       "75%                         0.00000  \n",
       "max                         1.00000  "
      ]
     },
     "execution_count": 5,
     "metadata": {},
     "output_type": "execute_result"
    }
   ],
   "source": [
    "data_ovh.describe(include='all')"
   ]
  },
  {
   "cell_type": "code",
   "execution_count": 6,
   "metadata": {},
   "outputs": [
    {
     "data": {
      "text/plain": [
       "Data_Ovhcenter                        False\n",
       "Hostname                              False\n",
       "DiskSerial                            False\n",
       "DiskAge(InS)                          False\n",
       "TotalReads                            False\n",
       "TotalWrites                           False\n",
       "AverageIOLatencyFrom5Minutes(InMs)    False\n",
       "TotalUncorrectedReadErrors            False\n",
       "TotalUncorrectedWriteErrors           False\n",
       "dtype: bool"
      ]
     },
     "execution_count": 6,
     "metadata": {},
     "output_type": "execute_result"
    }
   ],
   "source": [
    "\"\"\"\n",
    "with `.isnull()` function I can check a scalar or \n",
    "array-like object and indicates whether values are missing \n",
    "(NaN in numeric arrays, \n",
    "None or NaN in object arrays, \n",
    "NaT in datetimelike)\n",
    "\n",
    "with `.any()` function \n",
    "I can check for any instance in the whole df\n",
    "\"\"\"\n",
    "data_ovh.isnull().any()\n"
   ]
  },
  {
   "cell_type": "markdown",
   "metadata": {},
   "source": [
    "##### Data analysis and cleaning: conclusion\n",
    "\n",
    "As the data looks consistent, as evidenced by the fact that:\n",
    "- `data_ovh.isnull ()` showed that we do not have empty fields\n",
    "- `data_ovh.describe (include = 'all')` and data_ovh.describe () showed that we do not have outliners\n",
    "\n",
    "In fact, the data itself has errors, as evidenced by the fact that it has the columns `TotalUncorrectedReadErrors` and` otalUncorrectedWriteErrors`. However, these are errors that were foreseen by the creator of this database. As the values in the columns mentioned are also consistent, I can go to the next part."
   ]
  },
  {
   "cell_type": "markdown",
   "metadata": {},
   "source": [
    "\n",
    "--------------------------------------\n",
    "Since some tasks can be solved faster than others, and the very fact of data analysis gives fragments of answers, let me focus on what comes effortlessly in the first place.\n",
    "\n",
    "I'll start with the quests: \n",
    "- **\"How many read/write IO/s disks processes on average\"**\n",
    "- **\"Find disks which are most probably broken, i.e. have non-zero uncorrected errors (print disks and error counter)\"**\n",
    "\n",
    "----------\n"
   ]
  },
  {
   "cell_type": "markdown",
   "metadata": {},
   "source": [
    "### How many read/write IO/s disks processes on average:\n",
    "\n",
    "In order to find out how many read / write IO / s disks processes on average I will use the `df.describe ()` method. Additionally, I will do it on the new data frame: `data_ovh_r_w_io_per_s_avg`, which will only contain the columns that are relevant for this task."
   ]
  },
  {
   "cell_type": "code",
   "execution_count": 7,
   "metadata": {},
   "outputs": [
    {
     "data": {
      "text/html": [
       "<div>\n",
       "<style scoped>\n",
       "    .dataframe tbody tr th:only-of-type {\n",
       "        vertical-align: middle;\n",
       "    }\n",
       "\n",
       "    .dataframe tbody tr th {\n",
       "        vertical-align: top;\n",
       "    }\n",
       "\n",
       "    .dataframe thead th {\n",
       "        text-align: right;\n",
       "    }\n",
       "</style>\n",
       "<table border=\"1\" class=\"dataframe\">\n",
       "  <thead>\n",
       "    <tr style=\"text-align: right;\">\n",
       "      <th></th>\n",
       "      <th>TotalReads</th>\n",
       "      <th>TotalWrites</th>\n",
       "      <th>AverageIOLatencyFrom5Minutes(InMs)</th>\n",
       "    </tr>\n",
       "  </thead>\n",
       "  <tbody>\n",
       "    <tr>\n",
       "      <td>count</td>\n",
       "      <td>2.500000e+04</td>\n",
       "      <td>2.500000e+04</td>\n",
       "      <td>25000.000000</td>\n",
       "    </tr>\n",
       "    <tr>\n",
       "      <td>mean</td>\n",
       "      <td>1.597572e+09</td>\n",
       "      <td>6.403327e+08</td>\n",
       "      <td>14.503040</td>\n",
       "    </tr>\n",
       "    <tr>\n",
       "      <td>std</td>\n",
       "      <td>1.147848e+09</td>\n",
       "      <td>4.555051e+08</td>\n",
       "      <td>5.005169</td>\n",
       "    </tr>\n",
       "    <tr>\n",
       "      <td>min</td>\n",
       "      <td>2.459900e+05</td>\n",
       "      <td>4.891900e+04</td>\n",
       "      <td>0.000000</td>\n",
       "    </tr>\n",
       "    <tr>\n",
       "      <td>25%</td>\n",
       "      <td>7.240661e+08</td>\n",
       "      <td>2.904965e+08</td>\n",
       "      <td>11.000000</td>\n",
       "    </tr>\n",
       "    <tr>\n",
       "      <td>50%</td>\n",
       "      <td>1.380994e+09</td>\n",
       "      <td>5.611901e+08</td>\n",
       "      <td>14.000000</td>\n",
       "    </tr>\n",
       "    <tr>\n",
       "      <td>75%</td>\n",
       "      <td>2.228170e+09</td>\n",
       "      <td>8.931261e+08</td>\n",
       "      <td>18.000000</td>\n",
       "    </tr>\n",
       "    <tr>\n",
       "      <td>max</td>\n",
       "      <td>1.006793e+10</td>\n",
       "      <td>4.181582e+09</td>\n",
       "      <td>36.000000</td>\n",
       "    </tr>\n",
       "  </tbody>\n",
       "</table>\n",
       "</div>"
      ],
      "text/plain": [
       "         TotalReads   TotalWrites  AverageIOLatencyFrom5Minutes(InMs)\n",
       "count  2.500000e+04  2.500000e+04                        25000.000000\n",
       "mean   1.597572e+09  6.403327e+08                           14.503040\n",
       "std    1.147848e+09  4.555051e+08                            5.005169\n",
       "min    2.459900e+05  4.891900e+04                            0.000000\n",
       "25%    7.240661e+08  2.904965e+08                           11.000000\n",
       "50%    1.380994e+09  5.611901e+08                           14.000000\n",
       "75%    2.228170e+09  8.931261e+08                           18.000000\n",
       "max    1.006793e+10  4.181582e+09                           36.000000"
      ]
     },
     "execution_count": 7,
     "metadata": {},
     "output_type": "execute_result"
    }
   ],
   "source": [
    "\"\"\"\n",
    "\"How many read/write IO/s disks processes on average\":\n",
    "\"\"\"\n",
    "\n",
    "data_ovh_r_w_io_per_s_avg = data_ovh[\n",
    "    ['TotalReads',\n",
    "     'TotalWrites',\n",
    "     'AverageIOLatencyFrom5Minutes(InMs)']\n",
    "]\n",
    "\n",
    "data_ovh_r_w_io_per_s_avg.describe()"
   ]
  },
  {
   "cell_type": "markdown",
   "metadata": {},
   "source": [
    "As we can see on avarage there is:\n",
    "\n",
    "- For `TotalReads` **1.597572e+09**.\n",
    "- For `TotalWrites` **6.403327e+08**.\n",
    "- For **IO/s** in `AverageIoLatencyFrom5Minutes(InMs)` **14.503040** **Ms**.\n",
    "\n",
    "------------"
   ]
  },
  {
   "cell_type": "markdown",
   "metadata": {},
   "source": [
    "### Find disks which are most probably broken, i.e. have non-zero uncorrected errors (print disks and error counter):\n",
    "\n",
    "In order to find disks which are most probably broken, i.e. have non-zero uncorrected errors (print disks and error counter) I will use boolean indexing.\n",
    "\n",
    "As we can read on [geeksforgeeks.org](https://www.geeksforgeeks.org/boolean-indexing-in-pandas/):\n",
    "\n",
    "*In boolean indexing, we will select subsets of data based on the actual values of the data in the DataFrame and not on their row / column labels or integer locations. In boolean indexing, we use a boolean vector to filter the data*"
   ]
  },
  {
   "cell_type": "code",
   "execution_count": 8,
   "metadata": {},
   "outputs": [
    {
     "name": "stdout",
     "output_type": "stream",
     "text": [
      "False    24998\n",
      "True         2\n",
      "Name: TotalUncorrectedReadErrors, dtype: int64\n",
      "\n",
      " \n",
      "\n",
      "False    24994\n",
      "True         6\n",
      "Name: TotalUncorrectedWriteErrors, dtype: int64\n"
     ]
    }
   ],
   "source": [
    "\"\"\"\n",
    "Find disks which are most probably broken, \n",
    "i.e. have non-zero uncorrected errors (print disks and error counter):\n",
    "\"\"\"\n",
    "\n",
    "data_ovh_errors_ture = (\n",
    "    data_ovh['TotalUncorrectedReadErrors'] != 0\n",
    ")\n",
    "\n",
    "print(data_ovh_errors_ture.value_counts())\n",
    "print(\"\\n\", \"\\n\")\n",
    "\n",
    "data_ovh_errors_tuwe = (\n",
    "    data_ovh['TotalUncorrectedWriteErrors'] != 0\n",
    ")\n",
    "\n",
    "print(data_ovh_errors_tuwe.value_counts())"
   ]
  },
  {
   "cell_type": "markdown",
   "metadata": {},
   "source": [
    "as we can see on 25,000 rows there are:\n",
    "\n",
    "- For `TotalUncorrectedReadErrors`  **===> 2 errors**\n",
    "- For `TotalUncorrectedWriteErrors` **===> 6 errors**"
   ]
  },
  {
   "cell_type": "markdown",
   "metadata": {},
   "source": [
    "Disks that have `TotalUncorrectedReadErrors`:"
   ]
  },
  {
   "cell_type": "code",
   "execution_count": 9,
   "metadata": {},
   "outputs": [
    {
     "data": {
      "text/html": [
       "<div>\n",
       "<style scoped>\n",
       "    .dataframe tbody tr th:only-of-type {\n",
       "        vertical-align: middle;\n",
       "    }\n",
       "\n",
       "    .dataframe tbody tr th {\n",
       "        vertical-align: top;\n",
       "    }\n",
       "\n",
       "    .dataframe thead th {\n",
       "        text-align: right;\n",
       "    }\n",
       "</style>\n",
       "<table border=\"1\" class=\"dataframe\">\n",
       "  <thead>\n",
       "    <tr style=\"text-align: right;\">\n",
       "      <th></th>\n",
       "      <th>DiskSerial</th>\n",
       "      <th>TotalUncorrectedReadErrors</th>\n",
       "    </tr>\n",
       "  </thead>\n",
       "  <tbody>\n",
       "    <tr>\n",
       "      <td>3612</td>\n",
       "      <td>WFEMWTIP12</td>\n",
       "      <td>1</td>\n",
       "    </tr>\n",
       "    <tr>\n",
       "      <td>18924</td>\n",
       "      <td>JTGNZHJU24</td>\n",
       "      <td>1</td>\n",
       "    </tr>\n",
       "  </tbody>\n",
       "</table>\n",
       "</div>"
      ],
      "text/plain": [
       "       DiskSerial  TotalUncorrectedReadErrors\n",
       "3612   WFEMWTIP12                           1\n",
       "18924  JTGNZHJU24                           1"
      ]
     },
     "execution_count": 9,
     "metadata": {},
     "output_type": "execute_result"
    }
   ],
   "source": [
    "data_ovh[data_ovh_errors_ture][['DiskSerial', 'TotalUncorrectedReadErrors']]"
   ]
  },
  {
   "cell_type": "markdown",
   "metadata": {},
   "source": [
    "Disks that have `TotalUncorrectedWriteErrors`:"
   ]
  },
  {
   "cell_type": "code",
   "execution_count": 10,
   "metadata": {},
   "outputs": [
    {
     "data": {
      "text/html": [
       "<div>\n",
       "<style scoped>\n",
       "    .dataframe tbody tr th:only-of-type {\n",
       "        vertical-align: middle;\n",
       "    }\n",
       "\n",
       "    .dataframe tbody tr th {\n",
       "        vertical-align: top;\n",
       "    }\n",
       "\n",
       "    .dataframe thead th {\n",
       "        text-align: right;\n",
       "    }\n",
       "</style>\n",
       "<table border=\"1\" class=\"dataframe\">\n",
       "  <thead>\n",
       "    <tr style=\"text-align: right;\">\n",
       "      <th></th>\n",
       "      <th>DiskSerial</th>\n",
       "      <th>TotalUncorrectedWriteErrors</th>\n",
       "    </tr>\n",
       "  </thead>\n",
       "  <tbody>\n",
       "    <tr>\n",
       "      <td>8198</td>\n",
       "      <td>ERJOGZON98</td>\n",
       "      <td>1</td>\n",
       "    </tr>\n",
       "    <tr>\n",
       "      <td>13707</td>\n",
       "      <td>WWEKLLAQ07</td>\n",
       "      <td>1</td>\n",
       "    </tr>\n",
       "    <tr>\n",
       "      <td>19039</td>\n",
       "      <td>PDUACWYQ39</td>\n",
       "      <td>1</td>\n",
       "    </tr>\n",
       "    <tr>\n",
       "      <td>19319</td>\n",
       "      <td>DDCSTILM19</td>\n",
       "      <td>1</td>\n",
       "    </tr>\n",
       "    <tr>\n",
       "      <td>23998</td>\n",
       "      <td>CFBDCBWV98</td>\n",
       "      <td>1</td>\n",
       "    </tr>\n",
       "    <tr>\n",
       "      <td>24990</td>\n",
       "      <td>RUIWCEYE90</td>\n",
       "      <td>1</td>\n",
       "    </tr>\n",
       "  </tbody>\n",
       "</table>\n",
       "</div>"
      ],
      "text/plain": [
       "       DiskSerial  TotalUncorrectedWriteErrors\n",
       "8198   ERJOGZON98                            1\n",
       "13707  WWEKLLAQ07                            1\n",
       "19039  PDUACWYQ39                            1\n",
       "19319  DDCSTILM19                            1\n",
       "23998  CFBDCBWV98                            1\n",
       "24990  RUIWCEYE90                            1"
      ]
     },
     "execution_count": 10,
     "metadata": {},
     "output_type": "execute_result"
    }
   ],
   "source": [
    "data_ovh[data_ovh_errors_tuwe][['DiskSerial', 'TotalUncorrectedWriteErrors']]"
   ]
  },
  {
   "cell_type": "markdown",
   "metadata": {},
   "source": [
    "### How many disks are in total and in each DC:\n",
    "\n",
    "**How many disks are in each DC:**\n",
    "\n",
    "Because I assume that all disk serials are unique I can solve this task by grouping `DC`: `Data_Ovhcenter` column. Using the `size()` function I can count the instances for all disks at once."
   ]
  },
  {
   "cell_type": "code",
   "execution_count": 11,
   "metadata": {},
   "outputs": [
    {
     "data": {
      "text/plain": [
       "True"
      ]
     },
     "execution_count": 11,
     "metadata": {},
     "output_type": "execute_result"
    }
   ],
   "source": [
    "\"\"\"\n",
    "Just in case I will check do we have unique disk serials:\n",
    "\"\"\"\n",
    "a = data_ovh['DiskSerial']\n",
    "a.is_unique"
   ]
  },
  {
   "cell_type": "code",
   "execution_count": 12,
   "metadata": {
    "scrolled": true
   },
   "outputs": [
    {
     "data": {
      "text/plain": [
       "Data_Ovhcenter\n",
       "dc-tug    4549\n",
       "dc-bzy    4983\n",
       "dc-gxj    5078\n",
       "dc-fqu    5150\n",
       "dc-tur    5240\n",
       "dtype: int64"
      ]
     },
     "execution_count": 12,
     "metadata": {},
     "output_type": "execute_result"
    }
   ],
   "source": [
    "\"\"\"\n",
    "Because each disk that I can find, will always has a unique serial number\n",
    "I can check how many disks are in each DC using just `df.groupby()` with\n",
    "the `size()` function. \n",
    "The `size()` function will point out serial instances for each DC group.\n",
    "\"\"\"\n",
    "\n",
    "data_ovh_disks_per_DC = (\n",
    "    data_ovh.groupby('Data_Ovhcenter')\n",
    "    .size()\n",
    ")\n",
    "\n",
    "data_ovh_disks_per_DC = (\n",
    "    data_ovh_disks_per_DC\n",
    "    .sort_values(ascending=True)\n",
    ")\n",
    "\n",
    "data_ovh_disks_per_DC"
   ]
  },
  {
   "cell_type": "markdown",
   "metadata": {},
   "source": [
    "#### Before we jump to a conclusion about this data:\n",
    "\n",
    "At this point, I realized that I don't know - once again - what's the purpose of this analysis (fuzzy logic). If the output data is needed for further computing, processing etc. Then, it's fine, output data are enough. But if someone wants to analyse those data, then it would be better to present them in a more human-readable format. It is important because in this manner there is easier to understand data and find some hidden patterns. More about this can be found [here](https://en.wikipedia.org/wiki/Principles_of_grouping) and [here](https://en.wikipedia.org/wiki/Gestalt_psychology).\n",
    "\n",
    "That's why I decided to implement plots using `Matplotlib` library.\n",
    "\n",
    "##### One more, \"before\", we start:\n",
    "\n",
    "If I wanted to publish the data visualizations I create, I need to be mindful of people having [**colour blindness**](https://en.wikipedia.org/wiki/Color_blindness). Thankfully, there are colour palettes I can use that are friendly for people with colour blindness. One of them is called [Color Blind 10](http://tableaufriction.blogspot.com/2012/11/finally-you-can-use-tableau-data-colors.html) and was released by Tableau, the company that makes the data visualization platform of the same name.\n",
    "\n",
    "**The Data-Ink concept** \n",
    "\n",
    "Data-ink is the non-erasable ink used for the presentation of data. If data-ink would be removed from the image, the graphic would lose the content. Non-Data-Ink is accordingly the ink that does not transport the information but is used for scales, labels and edges. The data-ink ratio is the proportion of Ink that is used to present actual data compared to the total amount of ink (or pixels) used in the entire display. \n",
    "\n",
    "Non-data ink includes any elements in the chart that don't directly display data points. This includes tick markers, tick labels, and legends. Data ink includes any elements that display and depending on the data points underlying the chart. In a line chart, the data-ink would primarily be the lines and in a scatter plot, the data-ink would primarily be in the markers. As I increase the data-ink ratio, I decrease non-data ink that can help a viewer understand certain aspects of the plots. I need to be mindful of this trade-off as I work on making the appearance of plots to tell a story because plots I create could end up telling the wrong story.\n",
    "\n",
    "This principle was originally set forth by [Edward Tufte](https://en.wikipedia.org/wiki/Edward_Tufte), a pioneer in the field of data visualization. Tufte's first book, **The Visual Display of Quantitative Information**, is considered a bible among information designers.\n",
    "\n",
    "\n",
    "![SegmentLocal](data-ink.gif \"Non-data ink\")\n",
    "\n",
    "“Graphical excellence is that which gives to the viewer the greatest number of ideas in the shortest time with the least ink in the smallest space.”\n",
    "                                                                                                     Edward Tufte"
   ]
  },
  {
   "cell_type": "code",
   "execution_count": 13,
   "metadata": {},
   "outputs": [
    {
     "data": {
      "image/png": "[encoded data removed]",
      "text/plain": [
       "<Figure size 1080x288 with 1 Axes>"
      ]
     },
     "metadata": {
      "needs_background": "light"
     },
     "output_type": "display_data"
    }
   ],
   "source": [
    "# let's do a plot:\n",
    "fig1, ax = plt.subplots(figsize=(15,4))\n",
    "\n",
    "\"\"\"\n",
    "The axis is drawn as a unit, so the effective zorder for drawing \n",
    "the grid is determined by the zorder of each axis, \n",
    "not by the zorder of the Line2D objects comprising the grid. \n",
    "Therefore, to set grid zorder, use set_axisbelow or, \n",
    "for more control, call the set_zorder method of each axis.\n",
    "\n",
    "Inspiration from: \n",
    "https://stackoverflow.com/questions/31506361/grid-zorder-seems-not-to-take-effect-matplotlib\n",
    "\"\"\"\n",
    "ax.set_axisbelow(True)\n",
    "\n",
    "\"\"\"\n",
    "for the sake of using colours from the colour-blind page: \n",
    "http://tableaufriction.blogspot.com/2012/11/finally-you-can-use-tableau-data-colors.html\n",
    "I need to convert int to float between 0 and 1 for RGB values like 174.199.232 (blue colour).\n",
    "The value 174.199.232 is from the mentioned page.\n",
    "It is so because matplotlib needs it in such a format.\n",
    "\n",
    "Inspired from:\n",
    "https://stackoverflow.com/questions/41643189/plotting-just-a-single-rgb-color-in-matplotlib\n",
    "\"\"\"\n",
    "ax = data_ovh_disks_per_DC.plot.bar(\n",
    "    fontsize=15,\n",
    "    zorder=1,\n",
    "    color=(174/255, 199/255, 232/255)\n",
    ") # 'zorder' is bar layaut order\n",
    "\n",
    "\"\"\"\n",
    "Below is a for loop for displaying values above their respective bars.\n",
    "\n",
    "Inspiration from:\n",
    "https://stackoverflow.com/questions/63146552/how-do-i-display-these-values-above-their-respective-bars-on-this-bar-chart-with\n",
    "\"\"\"\n",
    "for p in ax.patches:\n",
    "    ax.annotate(s=p.get_height(),\n",
    "                xy=(p.get_x()+p.get_width()/2.,\n",
    "                    p.get_height()\n",
    "                   ),\n",
    "                ha='center',\n",
    "                va='center',\n",
    "                xytext=(0, 10),\n",
    "                textcoords='offset points')\n",
    "\n",
    "\n",
    "ax.spines[\"right\"].set_visible(False)    \n",
    "ax.spines[\"left\"].set_visible(False)\n",
    "ax.spines[\"top\"].set_visible(False)    \n",
    "ax.spines[\"bottom\"].set_visible(False)\n",
    "\n",
    "ax.set_title(\n",
    "    'How many disks are in total and in each DC:',\n",
    "    fontsize=30\n",
    ")\n",
    "\n",
    "ax.set_xticklabels(\n",
    "    data_ovh_disks_per_DC.index,\n",
    "    rotation=34.56789,\n",
    "    fontsize='xx-large'\n",
    ") # We will set xticklabels in angle to be easier to read)\n",
    "# The labels are centred horizontally, so when we rotate them 34.56789°\n",
    "\n",
    "ax.grid(axis='y', zorder=0) # 'zorder' is bar layaut order\n",
    "\n",
    "plt.ylim([4500, 5300])\n",
    "\n",
    "plt.show()"
   ]
  },
  {
   "cell_type": "markdown",
   "metadata": {},
   "source": [
    "As we can see:\n",
    "- `dc-tug` has the lowest quantity of drives, having **4549** units\n",
    "- `dc-tur` has the highest quantity of drives, having **5240** units\n",
    "\n",
    "--------\n"
   ]
  },
  {
   "cell_type": "markdown",
   "metadata": {},
   "source": [
    "**How many disks are in total:**\n",
    "\n",
    "Because each disk that I can find, will always has a unique serial number, in consequence, row numbers will be equal to the number of disks. Besides the fact that at the beginning I compute it with `df.describe()` function. I will print below the "
   ]
  },
  {
   "cell_type": "code",
   "execution_count": 14,
   "metadata": {},
   "outputs": [
    {
     "data": {
      "text/plain": [
       "25000"
      ]
     },
     "execution_count": 14,
     "metadata": {},
     "output_type": "execute_result"
    }
   ],
   "source": [
    "data_ovh_disks_per_DC.sum()"
   ]
  },
  {
   "cell_type": "markdown",
   "metadata": {},
   "source": [
    "----------------------\n",
    "### Which disk is the youngest/oldest one and what is its age (in days):\n",
    "\n",
    "To solve this task I will use `pandas` Series.min and Series.max methods.\n",
    "Because I need to know the output in days, instead of seconds, I will divide the output by 86400 which is 24 hours multiplied by 60 seconds multiplied by 60 minutes. I.e. seconds * minutes * hours = day."
   ]
  },
  {
   "cell_type": "code",
   "execution_count": 15,
   "metadata": {},
   "outputs": [
    {
     "name": "stdout",
     "output_type": "stream",
     "text": [
      "`youngest_drive_age` has: 0.2296 days\n"
     ]
    }
   ],
   "source": [
    "# #test:\n",
    "# print(\"data_ovh['DiskAge(InS)'].min() ====>\", data_ovh['DiskAge(InS)'].min())\n",
    "\n",
    "youngest_drive_age = (\n",
    "    data_ovh['DiskAge(InS)']\n",
    "    .min() \n",
    "    / 86400 # conversion from sec to days\n",
    ")\n",
    "\n",
    "print(\n",
    "    \"`youngest_drive_age` has:\",\n",
    "    round(youngest_drive_age,4),\n",
    "    \"days\"\n",
    ")"
   ]
  },
  {
   "cell_type": "code",
   "execution_count": 16,
   "metadata": {},
   "outputs": [
    {
     "name": "stdout",
     "output_type": "stream",
     "text": [
      "`oldest_drive_age` has: 2073.8416 days\n"
     ]
    }
   ],
   "source": [
    "# #test:\n",
    "# print(\"data_ovh['DiskAge(InS)'].max() ====> \", data_ovh['DiskAge(InS)'].max())\n",
    "\n",
    "oldest_drive_age = (\n",
    "    data_ovh['DiskAge(InS)']\n",
    "    .max()\n",
    "    / 86400 # conversion from sec to days\n",
    ")\n",
    "\n",
    "print(\n",
    "    \"`oldest_drive_age` has:\",\n",
    "    round(oldest_drive_age, 4),\n",
    "    \"days\"\n",
    ")"
   ]
  },
  {
   "cell_type": "code",
   "execution_count": 17,
   "metadata": {},
   "outputs": [
    {
     "data": {
      "text/html": [
       "<div>\n",
       "<style scoped>\n",
       "    .dataframe tbody tr th:only-of-type {\n",
       "        vertical-align: middle;\n",
       "    }\n",
       "\n",
       "    .dataframe tbody tr th {\n",
       "        vertical-align: top;\n",
       "    }\n",
       "\n",
       "    .dataframe thead th {\n",
       "        text-align: right;\n",
       "    }\n",
       "</style>\n",
       "<table border=\"1\" class=\"dataframe\">\n",
       "  <thead>\n",
       "    <tr style=\"text-align: right;\">\n",
       "      <th></th>\n",
       "      <th>type</th>\n",
       "      <th>Index</th>\n",
       "      <th>DiskSerial</th>\n",
       "      <th>age (in days)</th>\n",
       "    </tr>\n",
       "  </thead>\n",
       "  <tbody>\n",
       "    <tr>\n",
       "      <td>0</td>\n",
       "      <td>youngest drive</td>\n",
       "      <td>5899</td>\n",
       "      <td>WHEJNKGW99</td>\n",
       "      <td>0</td>\n",
       "    </tr>\n",
       "    <tr>\n",
       "      <td>1</td>\n",
       "      <td>oldest drive</td>\n",
       "      <td>14418</td>\n",
       "      <td>HBWRKAXG18</td>\n",
       "      <td>2074</td>\n",
       "    </tr>\n",
       "  </tbody>\n",
       "</table>\n",
       "</div>"
      ],
      "text/plain": [
       "             type  Index  DiskSerial  age (in days)\n",
       "0  youngest drive   5899  WHEJNKGW99              0\n",
       "1    oldest drive  14418  HBWRKAXG18           2074"
      ]
     },
     "execution_count": 17,
     "metadata": {},
     "output_type": "execute_result"
    }
   ],
   "source": [
    "youngest_drive_val = data_ovh['DiskAge(InS)'].min()\n",
    "oldest_drive_val = data_ovh['DiskAge(InS)'].max()\n",
    "\n",
    "youngest_drive = data_ovh.loc[\n",
    "    data_ovh['DiskAge(InS)'] == youngest_drive_val,\n",
    "    ['DiskSerial']\n",
    "]\n",
    "\n",
    "oldest_drive = data_ovh.loc[\n",
    "    data_ovh['DiskAge(InS)'] == oldest_drive_val,\n",
    "    ['DiskSerial']\n",
    "]\n",
    "\n",
    "younges_oldest_drives = pd.concat(\n",
    "    [youngest_drive, oldest_drive],\n",
    "    keys=['youngest drive', 'oldest drive'],\n",
    "    names=['type', 'Index']\n",
    ")\n",
    "\n",
    "\"\"\"\n",
    "At this point, it would be nice to have one index, \n",
    "so I need to reshape the multi-index.\n",
    "\n",
    "Inspiration from:\n",
    "https://stackoverflow.com/questions/20110170/turn-pandas-multi-index-into-column\n",
    "\"\"\"\n",
    "younges_oldest_drives = younges_oldest_drives.reset_index()  \n",
    "\n",
    "\"\"\"\n",
    "I need to first `round()` values before I will convert them to `int`. \n",
    "Without that the value will be rounded less accurate.\n",
    "\"\"\"\n",
    "\n",
    "younges_oldest_days_list = [\n",
    "    round(youngest_drive_age, 0),\n",
    "    round(oldest_drive_age, 0)\n",
    "]\n",
    "\n",
    "younges_oldest_drives['age (in days)'] = younges_oldest_days_list\n",
    "\n",
    "younges_oldest_drives['age (in days)'] = (\n",
    "    younges_oldest_drives['age (in days)']\n",
    "    .astype(int)\n",
    ")\n",
    "\n",
    "younges_oldest_drives"
   ]
  },
  {
   "cell_type": "code",
   "execution_count": 18,
   "metadata": {},
   "outputs": [
    {
     "name": "stdout",
     "output_type": "stream",
     "text": [
      "2074 days it's 5.68 years\n"
     ]
    }
   ],
   "source": [
    "print(\"2074 days it's\", round(oldest_drive_age / 365, 2), \"years\")"
   ]
  },
  {
   "cell_type": "markdown",
   "metadata": {},
   "source": [
    "As we can see, the difference between the youngest and the oldest disc is significant.\n",
    "When averaging the result over the days, the difference between the disks is 2,074 days.\n",
    "It's more than five and a half years: **5.68** years.\n",
    "\n",
    "Youngest drive has index: `5899`, serial number: **`WHEJNKGW99`** and less than one day running.\n",
    "\n",
    "Oldest drive has index: `14418 \t`, serial number: **`HBWRKAXG18`** and `2074` days."
   ]
  },
  {
   "cell_type": "markdown",
   "metadata": {},
   "source": [
    "### What's the average disk age per DC (in days)\n",
    "\n",
    "This case is similar to previous: *How many disks are in total and in each DC*. I will use `df.groupby()` function too.\n",
    "\n",
    "After that I will create a new **series** called `disk_avg_age` from this grouped **data frame** called `data_ovh_grouped`, I will use it for further computing with the `Series.mean()` function on 'DiskAge(InS)' column. \n",
    "\n",
    "Finally, `disk_avg_age` series will output the mean disk age, rounded with `round()` function and convert from seconds to days, thanks for my previous approach. "
   ]
  },
  {
   "cell_type": "code",
   "execution_count": 19,
   "metadata": {},
   "outputs": [
    {
     "data": {
      "text/plain": [
       "Data_Ovhcenter\n",
       "dc-fqu    728\n",
       "dc-tug    731\n",
       "dc-gxj    737\n",
       "dc-tur    738\n",
       "dc-bzy    741\n",
       "Name: DiskAge(InS), dtype: int32"
      ]
     },
     "execution_count": 19,
     "metadata": {},
     "output_type": "execute_result"
    }
   ],
   "source": [
    "data_ovh_grouped = data_ovh.groupby('Data_Ovhcenter')\n",
    "\n",
    "# data_ovh_grouped.head() # Test\n",
    "\n",
    "disk_avg_age = round(\n",
    "    data_ovh_grouped['DiskAge(InS)'].mean() / 86400,\n",
    "    0\n",
    ") # conversion from sec to days\n",
    "\n",
    "disk_avg_age = (\n",
    "    disk_avg_age\n",
    "    .sort_values(ascending=True)\n",
    "    .astype(int)\n",
    ")\n",
    "\n",
    "disk_avg_age"
   ]
  },
  {
   "cell_type": "code",
   "execution_count": 20,
   "metadata": {},
   "outputs": [
    {
     "data": {
      "image/png": "[encoded data removed]",
      "text/plain": [
       "<Figure size 1080x288 with 1 Axes>"
      ]
     },
     "metadata": {
      "needs_background": "light"
     },
     "output_type": "display_data"
    }
   ],
   "source": [
    "# let's do a plot:\n",
    "fig2, ax = plt.subplots(figsize=(15,4))\n",
    "\n",
    "\"\"\"\n",
    "The axis is drawn as a unit, so the effective zorder for drawing \n",
    "the grid is determined by the zorder of each axis, \n",
    "not by the zorder of the Line2D objects comprising the grid. \n",
    "Therefore, to set grid zorder, use set_axisbelow or, \n",
    "for more control, call the set_zorder method of each axis.\n",
    "\n",
    "Inspiration from: \n",
    "https://stackoverflow.com/questions/31506361/grid-zorder-seems-not-to-take-effect-matplotlib\n",
    "\"\"\"\n",
    "ax.set_axisbelow(True)\n",
    "\n",
    "\"\"\"\n",
    "for the sake of using colours from the colour-blind page: \n",
    "http://tableaufriction.blogspot.com/2012/11/finally-you-can-use-tableau-data-colors.html\n",
    "I need to convert int to float between 0 and 1 for RGB values like 255.187.120 (orange colour).\n",
    "The value 174.199.232 is from the mentioned page.\n",
    "It is so because matplotlib needs it in such a format.\n",
    "\n",
    "Inspired from:\n",
    "https://stackoverflow.com/questions/41643189/plotting-just-a-single-rgb-color-in-matplotlib\n",
    "\"\"\"\n",
    "ax = disk_avg_age.plot.bar(\n",
    "    fontsize=15,\n",
    "    zorder=1,\n",
    "    color=(255/255, 187/255, 120/255)\n",
    ") # 'zorder' is bar layaut order\n",
    "\n",
    "\n",
    "\"\"\"\n",
    "Below is a for loop for displaying values above their respective bars.\n",
    "\n",
    "Inspiration from:\n",
    "https://stackoverflow.com/questions/63146552/how-do-i-display-these-values-above-their-respective-bars-on-this-bar-chart-with\n",
    "\"\"\"\n",
    "for p in ax.patches:\n",
    "    ax.annotate(s=p.get_height(),\n",
    "                xy=(p.get_x()+p.get_width()/2.,\n",
    "                    p.get_height()\n",
    "                   ),\n",
    "                ha='center',\n",
    "                va='center',\n",
    "                xytext=(0, 10),\n",
    "                textcoords='offset points'\n",
    "               )\n",
    "\n",
    "ax.spines[\"right\"].set_visible(False)    \n",
    "ax.spines[\"left\"].set_visible(False)\n",
    "ax.spines[\"top\"].set_visible(False)    \n",
    "ax.spines[\"bottom\"].set_visible(False)\n",
    "\n",
    "ax.set_title(\n",
    "    \"What's the average disk age per DC (in days)\",\n",
    "    fontsize=30\n",
    ")\n",
    "\n",
    "ax.set_xticklabels(\n",
    "    data_ovh_disks_per_DC.index,\n",
    "    rotation=34.56789,\n",
    "    fontsize='xx-large'\n",
    ") # We will set xticklabels in angle to be easier to read)\n",
    "# The labels are centred horizontally, so when we rotate them 34.56789°\n",
    "\n",
    "ax.grid(axis='y', zorder=0) # 'zorder' is bar layaut order\n",
    "\n",
    "plt.ylim([720, 745])\n",
    "\n",
    "plt.show()"
   ]
  },
  {
   "cell_type": "markdown",
   "metadata": {},
   "source": [
    "### Find the top 5 disks with the lowest/highest average IO/s (reads+writes, print disks and their avg IO/s):\n",
    "\n",
    "For this task, I can use `nsmallest()` and `nlargest()` functions on `AverageIOLatencyFrom5Minutes(InMs)` column. Additionally, I will pass `5` argument inside each function, to find all the top 5 disks from both categories: highest and lowest."
   ]
  },
  {
   "cell_type": "code",
   "execution_count": 21,
   "metadata": {},
   "outputs": [
    {
     "data": {
      "text/plain": [
       "16382    36\n",
       "2854     34\n",
       "3126     33\n",
       "6428     33\n",
       "12355    33\n",
       "Name: AverageIOLatencyFrom5Minutes(InMs), dtype: int64"
      ]
     },
     "execution_count": 21,
     "metadata": {},
     "output_type": "execute_result"
    }
   ],
   "source": [
    "top_five_io_hi = (\n",
    "    data_ovh['AverageIOLatencyFrom5Minutes(InMs)']\n",
    "    .nlargest(5)\n",
    ")\n",
    "top_five_io_hi"
   ]
  },
  {
   "cell_type": "code",
   "execution_count": 22,
   "metadata": {},
   "outputs": [
    {
     "data": {
      "text/plain": [
       "600     0\n",
       "1231    0\n",
       "2036    0\n",
       "2956    0\n",
       "3050    0\n",
       "Name: AverageIOLatencyFrom5Minutes(InMs), dtype: int64"
      ]
     },
     "execution_count": 22,
     "metadata": {},
     "output_type": "execute_result"
    }
   ],
   "source": [
    "top_five_io_lo = (\n",
    "    data_ovh['AverageIOLatencyFrom5Minutes(InMs)']\n",
    "    .nsmallest(5)\n",
    ")\n",
    "top_five_io_lo"
   ]
  },
  {
   "cell_type": "code",
   "execution_count": 23,
   "metadata": {},
   "outputs": [
    {
     "data": {
      "text/html": [
       "<div>\n",
       "<style scoped>\n",
       "    .dataframe tbody tr th:only-of-type {\n",
       "        vertical-align: middle;\n",
       "    }\n",
       "\n",
       "    .dataframe tbody tr th {\n",
       "        vertical-align: top;\n",
       "    }\n",
       "\n",
       "    .dataframe thead th {\n",
       "        text-align: right;\n",
       "    }\n",
       "</style>\n",
       "<table border=\"1\" class=\"dataframe\">\n",
       "  <thead>\n",
       "    <tr style=\"text-align: right;\">\n",
       "      <th></th>\n",
       "      <th>TotalReads</th>\n",
       "      <th>TotalWrites</th>\n",
       "      <th>DiskSerial</th>\n",
       "      <th>AverageIOLatencyFrom5Minutes(InMs)</th>\n",
       "    </tr>\n",
       "  </thead>\n",
       "  <tbody>\n",
       "    <tr>\n",
       "      <td>16382</td>\n",
       "      <td>929496345</td>\n",
       "      <td>322681613</td>\n",
       "      <td>XOPTKGIK82</td>\n",
       "      <td>36</td>\n",
       "    </tr>\n",
       "    <tr>\n",
       "      <td>2854</td>\n",
       "      <td>1584947146</td>\n",
       "      <td>1315972763</td>\n",
       "      <td>ZODHQRJF54</td>\n",
       "      <td>34</td>\n",
       "    </tr>\n",
       "    <tr>\n",
       "      <td>3126</td>\n",
       "      <td>964657074</td>\n",
       "      <td>521702727</td>\n",
       "      <td>TOFYBLXN26</td>\n",
       "      <td>33</td>\n",
       "    </tr>\n",
       "    <tr>\n",
       "      <td>6428</td>\n",
       "      <td>1343700381</td>\n",
       "      <td>1232961027</td>\n",
       "      <td>TUDFFJTQ28</td>\n",
       "      <td>33</td>\n",
       "    </tr>\n",
       "    <tr>\n",
       "      <td>12355</td>\n",
       "      <td>2864069884</td>\n",
       "      <td>2086728629</td>\n",
       "      <td>CPRRJUUE55</td>\n",
       "      <td>33</td>\n",
       "    </tr>\n",
       "  </tbody>\n",
       "</table>\n",
       "</div>"
      ],
      "text/plain": [
       "       TotalReads  TotalWrites  DiskSerial  AverageIOLatencyFrom5Minutes(InMs)\n",
       "16382   929496345    322681613  XOPTKGIK82                                  36\n",
       "2854   1584947146   1315972763  ZODHQRJF54                                  34\n",
       "3126    964657074    521702727  TOFYBLXN26                                  33\n",
       "6428   1343700381   1232961027  TUDFFJTQ28                                  33\n",
       "12355  2864069884   2086728629  CPRRJUUE55                                  33"
      ]
     },
     "execution_count": 23,
     "metadata": {},
     "output_type": "execute_result"
    }
   ],
   "source": [
    "\"\"\"\n",
    "I will use `.index` method, \n",
    "because without it I will lose index pre-column \n",
    "which may be important for someone.\n",
    "\"\"\"\n",
    "\n",
    "top_five_io_hi_df = (\n",
    "    data_ovh.loc[top_five_io_hi.index]\n",
    "    [[\n",
    "        'TotalReads',\n",
    "        'TotalWrites',\n",
    "        'DiskSerial',\n",
    "        'AverageIOLatencyFrom5Minutes(InMs)'\n",
    "    ]]\n",
    ")\n",
    "\n",
    "top_five_io_hi_df"
   ]
  },
  {
   "cell_type": "code",
   "execution_count": 24,
   "metadata": {},
   "outputs": [
    {
     "data": {
      "text/html": [
       "<div>\n",
       "<style scoped>\n",
       "    .dataframe tbody tr th:only-of-type {\n",
       "        vertical-align: middle;\n",
       "    }\n",
       "\n",
       "    .dataframe tbody tr th {\n",
       "        vertical-align: top;\n",
       "    }\n",
       "\n",
       "    .dataframe thead th {\n",
       "        text-align: right;\n",
       "    }\n",
       "</style>\n",
       "<table border=\"1\" class=\"dataframe\">\n",
       "  <thead>\n",
       "    <tr style=\"text-align: right;\">\n",
       "      <th></th>\n",
       "      <th>TotalReads</th>\n",
       "      <th>TotalWrites</th>\n",
       "      <th>DiskSerial</th>\n",
       "      <th>AverageIOLatencyFrom5Minutes(InMs)</th>\n",
       "    </tr>\n",
       "  </thead>\n",
       "  <tbody>\n",
       "    <tr>\n",
       "      <td>600</td>\n",
       "      <td>217049438</td>\n",
       "      <td>74129008</td>\n",
       "      <td>EKWWNQWY00</td>\n",
       "      <td>0</td>\n",
       "    </tr>\n",
       "    <tr>\n",
       "      <td>1231</td>\n",
       "      <td>3596037290</td>\n",
       "      <td>1340676895</td>\n",
       "      <td>QUAOQMLV31</td>\n",
       "      <td>0</td>\n",
       "    </tr>\n",
       "    <tr>\n",
       "      <td>2036</td>\n",
       "      <td>770395321</td>\n",
       "      <td>195804561</td>\n",
       "      <td>KRCGOWUR36</td>\n",
       "      <td>0</td>\n",
       "    </tr>\n",
       "    <tr>\n",
       "      <td>2956</td>\n",
       "      <td>406305266</td>\n",
       "      <td>558140490</td>\n",
       "      <td>DTBBAVZV56</td>\n",
       "      <td>0</td>\n",
       "    </tr>\n",
       "    <tr>\n",
       "      <td>3050</td>\n",
       "      <td>1796796026</td>\n",
       "      <td>827402410</td>\n",
       "      <td>UEPGNGBN50</td>\n",
       "      <td>0</td>\n",
       "    </tr>\n",
       "  </tbody>\n",
       "</table>\n",
       "</div>"
      ],
      "text/plain": [
       "      TotalReads  TotalWrites  DiskSerial  AverageIOLatencyFrom5Minutes(InMs)\n",
       "600    217049438     74129008  EKWWNQWY00                                   0\n",
       "1231  3596037290   1340676895  QUAOQMLV31                                   0\n",
       "2036   770395321    195804561  KRCGOWUR36                                   0\n",
       "2956   406305266    558140490  DTBBAVZV56                                   0\n",
       "3050  1796796026    827402410  UEPGNGBN50                                   0"
      ]
     },
     "execution_count": 24,
     "metadata": {},
     "output_type": "execute_result"
    }
   ],
   "source": [
    "\"\"\"\n",
    "I will use `.index` method, \n",
    "because without it I will lose index pre-column \n",
    "which may be important for someone.\n",
    "\"\"\"\n",
    "top_five_io_lo_df = (\n",
    "    data_ovh.loc[top_five_io_lo.index]\n",
    "    [[\n",
    "        'TotalReads',\n",
    "        'TotalWrites',\n",
    "        'DiskSerial',\n",
    "        'AverageIOLatencyFrom5Minutes(InMs)'\n",
    "    ]]\n",
    ")    \n",
    "\n",
    "top_five_io_lo_df"
   ]
  },
  {
   "cell_type": "markdown",
   "metadata": {},
   "source": [
    "`top_five_io_lo` doesn't seem to be correct because even ram doesn't have `0ms` latency. If I assume that `0` is an outliner then I need to drop all rows with the `0` value in `AverageIOLatencyFrom5Minutes(InMs)` to find the top 5 disks with the lowest average IO/s. **This issue has to be addressed because without information about disks specification I don't know for sure is 1ms a proper lowest value that should be set in boolean comparison.**\n",
    " \n",
    "In the updated approach, I will chain the `where` method with the `lambda x: x > 0`, with that I will look for the smallest values using `nsmallest()`.\n",
    "\n",
    "If disks documentation will point out that for example, the lowest possible latency is `10 ms`, then I will change `lambda x: x > 0` to `lambda x: x > 10`.\n",
    "\n",
    "\n",
    "Finally, there should be addressed a question: is the fact of having `AverageIOLatencyFrom5Minutes(InMs)` == 0 isn't a hidden bug. Maybe those rows should be dropped? Maybe it should be addressed to some support or HQ? \n",
    "Also, it should be investigated what happens with those disks. [**Some `black box` and `white box` testing**](https://www.practitest.com/qa-learningcenter/resources/black-box-vs-white-box-testing/) may be required. \n"
   ]
  },
  {
   "cell_type": "code",
   "execution_count": 25,
   "metadata": {},
   "outputs": [
    {
     "data": {
      "text/plain": [
       "27     1.0\n",
       "125    1.0\n",
       "153    1.0\n",
       "199    1.0\n",
       "586    1.0\n",
       "Name: AverageIOLatencyFrom5Minutes(InMs), dtype: float64"
      ]
     },
     "execution_count": 25,
     "metadata": {},
     "output_type": "execute_result"
    }
   ],
   "source": [
    "top_five_io_lo_no_zero = (\n",
    "    data_ovh['AverageIOLatencyFrom5Minutes(InMs)']\n",
    "    .where(lambda x: x > 0)\n",
    "    .nsmallest(5)\n",
    ")\n",
    "\n",
    "top_five_io_lo_no_zero"
   ]
  },
  {
   "cell_type": "code",
   "execution_count": 26,
   "metadata": {},
   "outputs": [
    {
     "data": {
      "text/html": [
       "<div>\n",
       "<style scoped>\n",
       "    .dataframe tbody tr th:only-of-type {\n",
       "        vertical-align: middle;\n",
       "    }\n",
       "\n",
       "    .dataframe tbody tr th {\n",
       "        vertical-align: top;\n",
       "    }\n",
       "\n",
       "    .dataframe thead th {\n",
       "        text-align: right;\n",
       "    }\n",
       "</style>\n",
       "<table border=\"1\" class=\"dataframe\">\n",
       "  <thead>\n",
       "    <tr style=\"text-align: right;\">\n",
       "      <th></th>\n",
       "      <th>TotalReads</th>\n",
       "      <th>TotalWrites</th>\n",
       "      <th>DiskSerial</th>\n",
       "      <th>AverageIOLatencyFrom5Minutes(InMs)</th>\n",
       "    </tr>\n",
       "  </thead>\n",
       "  <tbody>\n",
       "    <tr>\n",
       "      <td>27</td>\n",
       "      <td>2863043970</td>\n",
       "      <td>570903321</td>\n",
       "      <td>YDULXDKS27</td>\n",
       "      <td>1</td>\n",
       "    </tr>\n",
       "    <tr>\n",
       "      <td>125</td>\n",
       "      <td>1296705465</td>\n",
       "      <td>523137947</td>\n",
       "      <td>YUZDPMNK25</td>\n",
       "      <td>1</td>\n",
       "    </tr>\n",
       "    <tr>\n",
       "      <td>153</td>\n",
       "      <td>1074585753</td>\n",
       "      <td>605343189</td>\n",
       "      <td>LVIICXKU53</td>\n",
       "      <td>1</td>\n",
       "    </tr>\n",
       "    <tr>\n",
       "      <td>199</td>\n",
       "      <td>3125488019</td>\n",
       "      <td>1119451038</td>\n",
       "      <td>LNFGSHDJ99</td>\n",
       "      <td>1</td>\n",
       "    </tr>\n",
       "    <tr>\n",
       "      <td>586</td>\n",
       "      <td>576612094</td>\n",
       "      <td>482145238</td>\n",
       "      <td>TINJVQDZ86</td>\n",
       "      <td>1</td>\n",
       "    </tr>\n",
       "  </tbody>\n",
       "</table>\n",
       "</div>"
      ],
      "text/plain": [
       "     TotalReads  TotalWrites  DiskSerial  AverageIOLatencyFrom5Minutes(InMs)\n",
       "27   2863043970    570903321  YDULXDKS27                                   1\n",
       "125  1296705465    523137947  YUZDPMNK25                                   1\n",
       "153  1074585753    605343189  LVIICXKU53                                   1\n",
       "199  3125488019   1119451038  LNFGSHDJ99                                   1\n",
       "586   576612094    482145238  TINJVQDZ86                                   1"
      ]
     },
     "execution_count": 26,
     "metadata": {},
     "output_type": "execute_result"
    }
   ],
   "source": [
    "\"\"\"\n",
    "I will use `.index` method, \n",
    "because without it I will lose index pre-column \n",
    "which may be important for someone.\n",
    "\"\"\"\n",
    "top_five_io_lo_df = (\n",
    "    data_ovh.loc[top_five_io_lo_no_zero.index]\n",
    "    [[\n",
    "        'TotalReads',\n",
    "        'TotalWrites',\n",
    "        'DiskSerial',\n",
    "        'AverageIOLatencyFrom5Minutes(InMs)'\n",
    "    ]]\n",
    ")\n",
    "\n",
    "top_five_io_lo_df"
   ]
  },
  {
   "cell_type": "markdown",
   "metadata": {},
   "source": [
    "##### Below a list of potential outliners with `AverageIOLatencyFrom5Minutes(InMs) == 0`:"
   ]
  },
  {
   "cell_type": "code",
   "execution_count": 27,
   "metadata": {},
   "outputs": [
    {
     "data": {
      "text/html": [
       "<div>\n",
       "<style scoped>\n",
       "    .dataframe tbody tr th:only-of-type {\n",
       "        vertical-align: middle;\n",
       "    }\n",
       "\n",
       "    .dataframe tbody tr th {\n",
       "        vertical-align: top;\n",
       "    }\n",
       "\n",
       "    .dataframe thead th {\n",
       "        text-align: right;\n",
       "    }\n",
       "</style>\n",
       "<table border=\"1\" class=\"dataframe\">\n",
       "  <thead>\n",
       "    <tr style=\"text-align: right;\">\n",
       "      <th></th>\n",
       "      <th>Data_Ovhcenter</th>\n",
       "      <th>Hostname</th>\n",
       "      <th>DiskSerial</th>\n",
       "      <th>DiskAge(InS)</th>\n",
       "      <th>TotalReads</th>\n",
       "      <th>TotalWrites</th>\n",
       "      <th>AverageIOLatencyFrom5Minutes(InMs)</th>\n",
       "      <th>TotalUncorrectedReadErrors</th>\n",
       "      <th>TotalUncorrectedWriteErrors</th>\n",
       "    </tr>\n",
       "  </thead>\n",
       "  <tbody>\n",
       "    <tr>\n",
       "      <td>600</td>\n",
       "      <td>dc-gxj</td>\n",
       "      <td>host-001572.dc-gxj.storage.ovh</td>\n",
       "      <td>EKWWNQWY00</td>\n",
       "      <td>8299870</td>\n",
       "      <td>217049438</td>\n",
       "      <td>74129008</td>\n",
       "      <td>0</td>\n",
       "      <td>0</td>\n",
       "      <td>0</td>\n",
       "    </tr>\n",
       "    <tr>\n",
       "      <td>1231</td>\n",
       "      <td>dc-fqu</td>\n",
       "      <td>host-001019.dc-fqu.storage.ovh</td>\n",
       "      <td>QUAOQMLV31</td>\n",
       "      <td>92081815</td>\n",
       "      <td>3596037290</td>\n",
       "      <td>1340676895</td>\n",
       "      <td>0</td>\n",
       "      <td>0</td>\n",
       "      <td>0</td>\n",
       "    </tr>\n",
       "    <tr>\n",
       "      <td>2036</td>\n",
       "      <td>dc-bzy</td>\n",
       "      <td>host-001341.dc-bzy.storage.ovh</td>\n",
       "      <td>KRCGOWUR36</td>\n",
       "      <td>83742225</td>\n",
       "      <td>770395321</td>\n",
       "      <td>195804561</td>\n",
       "      <td>0</td>\n",
       "      <td>0</td>\n",
       "      <td>0</td>\n",
       "    </tr>\n",
       "    <tr>\n",
       "      <td>2956</td>\n",
       "      <td>dc-tug</td>\n",
       "      <td>host-001469.dc-tug.storage.ovh</td>\n",
       "      <td>DTBBAVZV56</td>\n",
       "      <td>28624016</td>\n",
       "      <td>406305266</td>\n",
       "      <td>558140490</td>\n",
       "      <td>0</td>\n",
       "      <td>0</td>\n",
       "      <td>0</td>\n",
       "    </tr>\n",
       "    <tr>\n",
       "      <td>3050</td>\n",
       "      <td>dc-tur</td>\n",
       "      <td>host-001931.dc-tur.storage.ovh</td>\n",
       "      <td>UEPGNGBN50</td>\n",
       "      <td>87488586</td>\n",
       "      <td>1796796026</td>\n",
       "      <td>827402410</td>\n",
       "      <td>0</td>\n",
       "      <td>0</td>\n",
       "      <td>0</td>\n",
       "    </tr>\n",
       "  </tbody>\n",
       "</table>\n",
       "</div>"
      ],
      "text/plain": [
       "     Data_Ovhcenter                        Hostname  DiskSerial  DiskAge(InS)  \\\n",
       "600          dc-gxj  host-001572.dc-gxj.storage.ovh  EKWWNQWY00       8299870   \n",
       "1231         dc-fqu  host-001019.dc-fqu.storage.ovh  QUAOQMLV31      92081815   \n",
       "2036         dc-bzy  host-001341.dc-bzy.storage.ovh  KRCGOWUR36      83742225   \n",
       "2956         dc-tug  host-001469.dc-tug.storage.ovh  DTBBAVZV56      28624016   \n",
       "3050         dc-tur  host-001931.dc-tur.storage.ovh  UEPGNGBN50      87488586   \n",
       "\n",
       "      TotalReads  TotalWrites  AverageIOLatencyFrom5Minutes(InMs)  \\\n",
       "600    217049438     74129008                                   0   \n",
       "1231  3596037290   1340676895                                   0   \n",
       "2036   770395321    195804561                                   0   \n",
       "2956   406305266    558140490                                   0   \n",
       "3050  1796796026    827402410                                   0   \n",
       "\n",
       "      TotalUncorrectedReadErrors  TotalUncorrectedWriteErrors  \n",
       "600                            0                            0  \n",
       "1231                           0                            0  \n",
       "2036                           0                            0  \n",
       "2956                           0                            0  \n",
       "3050                           0                            0  "
      ]
     },
     "execution_count": 27,
     "metadata": {},
     "output_type": "execute_result"
    }
   ],
   "source": [
    "suspected_io_with_zero = (\n",
    "    data_ovh[data_ovh['AverageIOLatencyFrom5Minutes(InMs)'] == 0]\n",
    ")\n",
    "\n",
    "suspected_io_with_zero.head()"
   ]
  },
  {
   "cell_type": "code",
   "execution_count": 28,
   "metadata": {},
   "outputs": [
    {
     "data": {
      "text/plain": [
       "378"
      ]
     },
     "execution_count": 28,
     "metadata": {},
     "output_type": "execute_result"
    }
   ],
   "source": [
    "suspected_io_with_zero.size"
   ]
  },
  {
   "cell_type": "code",
   "execution_count": 29,
   "metadata": {},
   "outputs": [
    {
     "data": {
      "text/html": [
       "<div>\n",
       "<style scoped>\n",
       "    .dataframe tbody tr th:only-of-type {\n",
       "        vertical-align: middle;\n",
       "    }\n",
       "\n",
       "    .dataframe tbody tr th {\n",
       "        vertical-align: top;\n",
       "    }\n",
       "\n",
       "    .dataframe thead th {\n",
       "        text-align: right;\n",
       "    }\n",
       "</style>\n",
       "<table border=\"1\" class=\"dataframe\">\n",
       "  <thead>\n",
       "    <tr style=\"text-align: right;\">\n",
       "      <th></th>\n",
       "      <th>DiskSerial</th>\n",
       "    </tr>\n",
       "    <tr>\n",
       "      <th>Data_Ovhcenter</th>\n",
       "      <th></th>\n",
       "    </tr>\n",
       "  </thead>\n",
       "  <tbody>\n",
       "    <tr>\n",
       "      <td>dc-bzy</td>\n",
       "      <td>9</td>\n",
       "    </tr>\n",
       "    <tr>\n",
       "      <td>dc-fqu</td>\n",
       "      <td>7</td>\n",
       "    </tr>\n",
       "    <tr>\n",
       "      <td>dc-gxj</td>\n",
       "      <td>7</td>\n",
       "    </tr>\n",
       "    <tr>\n",
       "      <td>dc-tug</td>\n",
       "      <td>9</td>\n",
       "    </tr>\n",
       "    <tr>\n",
       "      <td>dc-tur</td>\n",
       "      <td>10</td>\n",
       "    </tr>\n",
       "  </tbody>\n",
       "</table>\n",
       "</div>"
      ],
      "text/plain": [
       "                DiskSerial\n",
       "Data_Ovhcenter            \n",
       "dc-bzy                   9\n",
       "dc-fqu                   7\n",
       "dc-gxj                   7\n",
       "dc-tug                   9\n",
       "dc-tur                  10"
      ]
     },
     "execution_count": 29,
     "metadata": {},
     "output_type": "execute_result"
    }
   ],
   "source": [
    "suspected_io_with_zero_table = pd.pivot_table(\n",
    "    suspected_io_with_zero,\n",
    "    values='DiskSerial',\n",
    "    index='Data_Ovhcenter',\n",
    "    aggfunc=np.size\n",
    ")\n",
    "\n",
    "suspected_io_with_zero_table"
   ]
  },
  {
   "cell_type": "markdown",
   "metadata": {},
   "source": [
    "I found 378 instances where `['AverageIOLatencyFrom5Minutes(InMs)'] == 0`.\n",
    "\n",
    "Most instances are located in `Data_Ovhcenter`: `dc-tur` but they are in each `Data_Ovhcenter`!"
   ]
  },
  {
   "cell_type": "markdown",
   "metadata": {},
   "source": [
    "--------------------------- \n",
    "I found that the Average IO latency from 5 minutes(In Ms) is from 0 (or 1) to 36 `Ms`. \n",
    "\n",
    "It is possible that further investigation has to be made with outliers."
   ]
  },
  {
   "cell_type": "markdown",
   "metadata": {},
   "source": [
    "### Final conclusions:\n",
    "\n",
    "To present a bigger picture from this analysis, I will displat plots from several parts of this whole project.\n",
    "\n",
    "I will also create a new data frame called `final_data_frame` with columns listed below:\n",
    "- 'disk avg age(days)'\n",
    "- 'data ovh disks per DC'\n",
    "- 'top_five_io_lo_series_new'\n",
    "- 'top_five_io_hi_series_new'\n",
    "- 'data_ovh_disks_per_DC'\n",
    "\n",
    "With all of that I will be able to see easily all the data."
   ]
  },
  {
   "cell_type": "code",
   "execution_count": 30,
   "metadata": {},
   "outputs": [
    {
     "data": {
      "text/plain": [
       "Data_Ovhcenter\n",
       "dc-bzy    36\n",
       "dc-tur    34\n",
       "dc-fqu    33\n",
       "dc-tur    33\n",
       "dc-gxj    33\n",
       "Name: AverageIOLatencyFrom5Minutes(InMs), dtype: int64"
      ]
     },
     "execution_count": 30,
     "metadata": {},
     "output_type": "execute_result"
    }
   ],
   "source": [
    "top_five_io_hi_df_new = (\n",
    "    data_ovh.loc[top_five_io_hi_df.index]\n",
    "    [['Data_Ovhcenter', 'AverageIOLatencyFrom5Minutes(InMs)']]\n",
    ")\n",
    "\n",
    "top_five_io_hi_df_new = (\n",
    "    top_five_io_hi_df_new\n",
    "    .set_index('Data_Ovhcenter')\n",
    ")\n",
    "\n",
    "\"\"\"\n",
    "I can then use df.squeeze() to convert the DataFrame into a Series:\n",
    "\"\"\"\n",
    "top_five_io_hi_series_new = top_five_io_hi_df_new.squeeze() \n",
    "\n",
    "top_five_io_hi_series_new"
   ]
  },
  {
   "cell_type": "code",
   "execution_count": 31,
   "metadata": {},
   "outputs": [
    {
     "data": {
      "text/plain": [
       "Data_Ovhcenter\n",
       "dc-bzy    36.0\n",
       "dc-fqu    33.0\n",
       "dc-gxj    33.0\n",
       "dc-tur    33.5\n",
       "Name: AverageIOLatencyFrom5Minutes(InMs), dtype: float64"
      ]
     },
     "execution_count": 31,
     "metadata": {},
     "output_type": "execute_result"
    }
   ],
   "source": [
    "\"\"\"\n",
    "let's groupby output:\n",
    "\"\"\"\n",
    "top_five_io_hi_series_new = (\n",
    "    top_five_io_hi_series_new\n",
    "    .groupby(level=0)\n",
    "    .mean()\n",
    ")\n",
    "\n",
    "top_five_io_hi_series_new"
   ]
  },
  {
   "cell_type": "code",
   "execution_count": 32,
   "metadata": {},
   "outputs": [
    {
     "data": {
      "text/plain": [
       "Data_Ovhcenter\n",
       "dc-bzy    1\n",
       "dc-fqu    1\n",
       "dc-gxj    1\n",
       "dc-gxj    1\n",
       "dc-gxj    1\n",
       "Name: AverageIOLatencyFrom5Minutes(InMs), dtype: int64"
      ]
     },
     "execution_count": 32,
     "metadata": {},
     "output_type": "execute_result"
    }
   ],
   "source": [
    "top_five_io_lo_df_new = (\n",
    "    data_ovh.loc[top_five_io_lo_df.index]\n",
    "    [['Data_Ovhcenter', 'AverageIOLatencyFrom5Minutes(InMs)']]\n",
    ")\n",
    "\n",
    "top_five_io_lo_df_new = (\n",
    "    top_five_io_lo_df_new\n",
    "    .set_index('Data_Ovhcenter')\n",
    ")\n",
    "\n",
    "\n",
    "\"\"\"\n",
    "I can then use df.squeeze() to convert the DataFrame into a Series:\n",
    "\"\"\"\n",
    "top_five_io_lo_series_new = top_five_io_lo_df_new.squeeze() \n",
    "\n",
    "top_five_io_lo_series_new"
   ]
  },
  {
   "cell_type": "code",
   "execution_count": 33,
   "metadata": {},
   "outputs": [
    {
     "data": {
      "text/plain": [
       "Data_Ovhcenter\n",
       "dc-bzy    1\n",
       "dc-fqu    1\n",
       "dc-gxj    1\n",
       "Name: AverageIOLatencyFrom5Minutes(InMs), dtype: int64"
      ]
     },
     "execution_count": 33,
     "metadata": {},
     "output_type": "execute_result"
    }
   ],
   "source": [
    "\"\"\"\n",
    "let's groupby output:\n",
    "\"\"\"\n",
    "top_five_io_lo_series_new = (\n",
    "    top_five_io_lo_series_new\n",
    "    .groupby(level=0)\n",
    "    .mean()\n",
    ")\n",
    "\n",
    "top_five_io_lo_series_new"
   ]
  },
  {
   "cell_type": "code",
   "execution_count": 34,
   "metadata": {},
   "outputs": [
    {
     "data": {
      "text/html": [
       "<div>\n",
       "<style scoped>\n",
       "    .dataframe tbody tr th:only-of-type {\n",
       "        vertical-align: middle;\n",
       "    }\n",
       "\n",
       "    .dataframe tbody tr th {\n",
       "        vertical-align: top;\n",
       "    }\n",
       "\n",
       "    .dataframe thead th {\n",
       "        text-align: right;\n",
       "    }\n",
       "</style>\n",
       "<table border=\"1\" class=\"dataframe\">\n",
       "  <thead>\n",
       "    <tr style=\"text-align: right;\">\n",
       "      <th></th>\n",
       "      <th>disk avg age(days)</th>\n",
       "      <th>data ovh disks per DC</th>\n",
       "      <th>top_five_io_lo_series_new</th>\n",
       "      <th>top_five_io_hi_series_new</th>\n",
       "      <th>data_ovh_disks_per_DC</th>\n",
       "    </tr>\n",
       "  </thead>\n",
       "  <tbody>\n",
       "    <tr>\n",
       "      <td>dc-bzy</td>\n",
       "      <td>741</td>\n",
       "      <td>4983</td>\n",
       "      <td>1.0</td>\n",
       "      <td>36.0</td>\n",
       "      <td>4983</td>\n",
       "    </tr>\n",
       "    <tr>\n",
       "      <td>dc-fqu</td>\n",
       "      <td>728</td>\n",
       "      <td>5150</td>\n",
       "      <td>1.0</td>\n",
       "      <td>33.0</td>\n",
       "      <td>5150</td>\n",
       "    </tr>\n",
       "    <tr>\n",
       "      <td>dc-gxj</td>\n",
       "      <td>737</td>\n",
       "      <td>5078</td>\n",
       "      <td>1.0</td>\n",
       "      <td>33.0</td>\n",
       "      <td>5078</td>\n",
       "    </tr>\n",
       "    <tr>\n",
       "      <td>dc-tug</td>\n",
       "      <td>731</td>\n",
       "      <td>4549</td>\n",
       "      <td>NaN</td>\n",
       "      <td>NaN</td>\n",
       "      <td>4549</td>\n",
       "    </tr>\n",
       "    <tr>\n",
       "      <td>dc-tur</td>\n",
       "      <td>738</td>\n",
       "      <td>5240</td>\n",
       "      <td>NaN</td>\n",
       "      <td>33.5</td>\n",
       "      <td>5240</td>\n",
       "    </tr>\n",
       "  </tbody>\n",
       "</table>\n",
       "</div>"
      ],
      "text/plain": [
       "        disk avg age(days)  data ovh disks per DC  top_five_io_lo_series_new  \\\n",
       "dc-bzy                 741                   4983                        1.0   \n",
       "dc-fqu                 728                   5150                        1.0   \n",
       "dc-gxj                 737                   5078                        1.0   \n",
       "dc-tug                 731                   4549                        NaN   \n",
       "dc-tur                 738                   5240                        NaN   \n",
       "\n",
       "        top_five_io_hi_series_new  data_ovh_disks_per_DC  \n",
       "dc-bzy                       36.0                   4983  \n",
       "dc-fqu                       33.0                   5150  \n",
       "dc-gxj                       33.0                   5078  \n",
       "dc-tug                        NaN                   4549  \n",
       "dc-tur                       33.5                   5240  "
      ]
     },
     "execution_count": 34,
     "metadata": {},
     "output_type": "execute_result"
    }
   ],
   "source": [
    "d = {\n",
    "    'disk avg age(days)': disk_avg_age,\n",
    "    'data ovh disks per DC': data_ovh_disks_per_DC,\n",
    "    'top_five_io_lo_series_new': top_five_io_lo_series_new,\n",
    "    'top_five_io_hi_series_new': top_five_io_hi_series_new,\n",
    "    'data_ovh_disks_per_DC': data_ovh_disks_per_DC\n",
    "}\n",
    "\n",
    "final_data_frame = pd.DataFrame(data=d)\n",
    "final_data_frame"
   ]
  },
  {
   "cell_type": "code",
   "execution_count": 35,
   "metadata": {},
   "outputs": [
    {
     "data": {
      "image/png": "[encoded data removed]",
      "text/plain": [
       "<Figure size 1080x288 with 1 Axes>"
      ]
     },
     "execution_count": 35,
     "metadata": {},
     "output_type": "execute_result"
    }
   ],
   "source": [
    "fig1"
   ]
  },
  {
   "cell_type": "code",
   "execution_count": 36,
   "metadata": {},
   "outputs": [
    {
     "data": {
      "image/png": "[encoded data removed]",
      "text/plain": [
       "<Figure size 1080x288 with 1 Axes>"
      ]
     },
     "execution_count": 36,
     "metadata": {},
     "output_type": "execute_result"
    }
   ],
   "source": [
    "fig2"
   ]
  },
  {
   "cell_type": "markdown",
   "metadata": {},
   "source": [
    "From the collected data I can see that:\n",
    "\n",
    "- `dc-tur` has the highest quantity of disks from all `Data_Ovhcenter`. It also has the oldest disks. \n",
    "\n",
    "\n",
    "- `dc-tug` has the lowest quantity of disks among all `Data_Ovhcenter`. It also has the youngest disks. Because the `dc-tug` is the youngest, I assume, that it's the reason why I don't have information about values in columns: `top_five_io_lo_series_new` and `top_five_io_hi_series_new`.\n",
    "\n",
    "\n",
    "- `dc-bzy` has the highest latency in `top_five_io_hi_series_new`. That's odd because it's almost the youngest, so it's possible that there is a need for some revision in the whole system. Something might be wrong with efficiency there. I suggest doing some [**`black box` and `white box` testing**](https://www.practitest.com/qa-learningcenter/resources/black-box-vs-white-box-testing/). "
   ]
  },
  {
   "cell_type": "code",
   "execution_count": 37,
   "metadata": {},
   "outputs": [
    {
     "data": {
      "text/plain": [
       "'\\nThank you for your attention. \\nBelow, an easter egg running in Jupyter Notebook \\n(using an open-source library that I wrote. More details at: https://pypi.org/project/get-gifNimage/ )\\n'"
      ]
     },
     "execution_count": 37,
     "metadata": {},
     "output_type": "execute_result"
    }
   ],
   "source": [
    "\"\"\"\n",
    "Thank you for your attention. \n",
    "Below, an easter egg running in Jupyter Notebook \n",
    "(using an open-source library that I wrote. More details at: https://pypi.org/project/get-gifNimage/ )\n",
    "\"\"\"\n",
    "\n",
    "# # !pip install get-gifNimage  | grep -v 'already satisfied'\n",
    "\n",
    "# import get_gifNimage\n",
    "# from get_gifNimage import get_gifNimage\n",
    "# get_gifNimage('https://media.giphy.com/media/W80Y9y1XwiL84/giphy.gif')"
   ]
  }
 ],
 "metadata": {
  "kernelspec": {
   "display_name": "Python 3",
   "language": "python",
   "name": "python3"
  },
  "language_info": {
   "codemirror_mode": {
    "name": "ipython",
    "version": 3
   },
   "file_extension": ".py",
   "mimetype": "text/x-python",
   "name": "python",
   "nbconvert_exporter": "python",
   "pygments_lexer": "ipython3",
   "version": "3.7.4"
  }
 },
 "nbformat": 4,
 "nbformat_minor": 2
}
